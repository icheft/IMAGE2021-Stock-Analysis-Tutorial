{
 "cells": [
  {
   "cell_type": "markdown",
   "metadata": {},
   "source": [
    "<center>\n",
    "    <h1>進階 Python</h1>\n",
    "    <h3>用 Python 簡單打造一個屬於自己的投資分析 App</h3>\n",
    "    <h3>Part III - App 實戰</h3>\n",
    "</center>\n",
    "\n",
    "這部分沒有目錄，我們將一步一步地帶同學走過，並且用一個叫做 `streamlit` 的套件，來完成最後的 App。由於 Streamlit 目前仍屬於較新的專案，網路上討論的人數較少，但因為也相對較為簡單，所以就帶大家用這個套件囉。\n",
    "\n",
    "有關於 Streamlit 套件，有興趣的同學也可以到[官網](https://streamlit.io)看看。"
   ]
  },
  {
   "cell_type": "code",
   "execution_count": 2,
   "metadata": {},
   "outputs": [],
   "source": [
    "from bs4 import BeautifulSoup\n",
    "import time\n",
    "from datetime import datetime\n",
    "import requests \n",
    "import yfinance as yf\n",
    "import pandas as pd\n",
    "import matplotlib.pyplot as plt\n",
    "import pws\n",
    "\n",
    "# 在 Jupyter Notebook 中，只要有加上下面這行，就可以直接在裡面畫圖\n",
    "%matplotlib inline\n",
    "\n",
    "# 新的套件\n",
    "import streamlit as st\n",
    "from dateutil.relativedelta import relativedelta # 日期上的運算"
   ]
  },
  {
   "cell_type": "markdown",
   "metadata": {},
   "source": [
    "## 內容呈現"
   ]
  },
  {
   "cell_type": "code",
   "execution_count": 4,
   "metadata": {},
   "outputs": [
    {
     "name": "stdout",
     "output_type": "stream",
     "text": [
      "分析 Yuanta/P-shares Taiwan Top 50 ETF\n"
     ]
    }
   ],
   "source": [
    "symbol = '0050.TW'\n",
    "stock_obj = yf.Ticker(symbol)\n",
    "\n",
    "# 印出我們的標題\n",
    "\n",
    "print(f'分析 {stock_obj.info[\"longName\"]}')"
   ]
  },
  {
   "cell_type": "code",
   "execution_count": 25,
   "metadata": {},
   "outputs": [
    {
     "data": {
      "text/plain": [
       "0.11"
      ]
     },
     "execution_count": 25,
     "metadata": {},
     "output_type": "execute_result"
    }
   ],
   "source": [
    "tsmc = yf.Ticker('2330.TW')\n",
    "tsmc.info['dividendRate'] / 100"
   ]
  },
  {
   "cell_type": "code",
   "execution_count": 3,
   "metadata": {},
   "outputs": [
    {
     "name": "stdout",
     "output_type": "stream",
     "text": [
      "參考時價：139.40｜殖利率：2.1879483500717356%\n"
     ]
    }
   ],
   "source": [
    "current_price = pws.get_price('0050.TW')\n",
    "year, div_yield, total_div = pws.get_dividend_yield('0050.TW')\n",
    "\n",
    "print(f'參考時價：{current_price}｜殖利率：{div_yield * 100}%')"
   ]
  },
  {
   "cell_type": "code",
   "execution_count": 4,
   "metadata": {},
   "outputs": [
    {
     "name": "stdout",
     "output_type": "stream",
     "text": [
      "股市回測線：\n"
     ]
    },
    {
     "data": {
      "image/png": "[encoded data removed]",
      "text/plain": [
       "<Figure size 432x288 with 1 Axes>"
      ]
     },
     "metadata": {
      "needs_background": "light"
     },
     "output_type": "display_data"
    }
   ],
   "source": [
    "stock_df = stock_obj.history(\n",
    "    start='2011-3-12', end='2021-3-12', auto_adjust=False)  # period=\"max\"\n",
    "\n",
    "print('股市回測線：')\n",
    "stock_df['Adj Close'].plot.line()\n",
    "plt.show()"
   ]
  },
  {
   "cell_type": "code",
   "execution_count": 15,
   "metadata": {},
   "outputs": [
    {
     "name": "stdout",
     "output_type": "stream",
     "text": [
      "年度報酬率：\n"
     ]
    },
    {
     "data": {
      "image/png": "[encoded data removed]",
      "text/plain": [
       "<Figure size 432x288 with 1 Axes>"
      ]
     },
     "metadata": {
      "needs_background": "light"
     },
     "output_type": "display_data"
    }
   ],
   "source": [
    "stock_monthly_returns = stock_df['Adj Close'].resample('M').ffill().pct_change() * 100\n",
    "stock_yearly_returns = stock_df['Adj Close'].resample('Y').ffill().pct_change() * 100\n",
    "\n",
    "stock_yearly_returns.index = stock_yearly_returns.index.strftime('%Y') #將 index 的 dateformat 改成‘年’\n",
    "print('年度報酬率：')\n",
    "stock_yearly_returns.dropna().plot(kind='bar')\n",
    "plt.show()\n",
    "\n",
    "beautify_syr = stock_yearly_returns.reset_index().dropna().rename(columns={'Adj Close': 'Percentage Change'})\n",
    "\n",
    "stock_daily_return = stock_df['Adj Close'].ffill().pct_change()\n",
    "\n",
    "start = stock_daily_return.index[0]\n",
    "end = stock_daily_return.index[-1]  # 以 stock 的最後一天為結束日期.\n",
    "\n",
    "year_difference = relativedelta(end, start).years + \\\n",
    "    (relativedelta(end, start).months)/12 + \\\n",
    "    (relativedelta(end, start).days)/365.2425"
   ]
  },
  {
   "cell_type": "code",
   "execution_count": 7,
   "metadata": {},
   "outputs": [
    {
     "name": "stdout",
     "output_type": "stream",
     "text": [
      "經過 9.98511434184138 年後，變成 6872.448913061019 元｜年化報酬率為 8.655744863982019%\n"
     ]
    }
   ],
   "source": [
    "# 假設一開始我們有 3000 元\n",
    "\n",
    "init_balance = balance = 3000\n",
    "total_balance = stock_daily_return.copy()\n",
    "total_balance[0] = 0\n",
    "\n",
    "for i in range(len(stock_daily_return)):\n",
    "    balance = balance * (1+total_balance[i])\n",
    "    total_balance[i] = balance\n",
    "\n",
    "total_balance.rename('成長變化', inplace=True)\n",
    "\n",
    "return_rate = (total_balance[-1] - total_balance[0])/total_balance[0]\n",
    "\n",
    "cgar = (((1+return_rate)**(1/year_difference))-1)\n",
    "\n",
    "print(f'經過 {year_difference} 年後，變成 {total_balance[-1]} 元｜年化報酬率為 {cgar * 100}%')\n",
    "\n",
    "\n",
    "# 股票基本資料\n",
    "stock_info = stock_obj.info"
   ]
  },
  {
   "cell_type": "markdown",
   "metadata": {},
   "source": [
    "## 打包！\n",
    "\n",
    "我們此時可以將上面所寫的程式碼打包成一個函式，方便之後 App 的進行。"
   ]
  },
  {
   "cell_type": "code",
   "execution_count": 8,
   "metadata": {},
   "outputs": [],
   "source": [
    "def app(stock_id='0050.TW'):\n",
    "    stock_id = stock_id\n",
    "    stock_obj = yf.Ticker(stock_id)\n",
    "\n",
    "    # 印出我們的標題\n",
    "\n",
    "    print(f'分析 {stock_obj.info[\"longName\"]}')\n",
    "\n",
    "    current_price = pws.get_price(stock_id)\n",
    "    year, div_yield, total_div = pws.get_dividend_yield(stock_id)\n",
    "\n",
    "    print(f'參考時價：{current_price}｜殖利率：{div_yield * 100}%')\n",
    "\n",
    "    stock_df = stock_obj.history(\n",
    "        start='2011-3-12', end='2021-3-12', auto_adjust=False)  # period=\"max\"\n",
    "\n",
    "    ock_df = stock_obj.history(\n",
    "        start='2011-3-12', end='2021-3-12', auto_adjust=False)  # period=\"max\"\n",
    "\n",
    "    print('股市回測線：')\n",
    "    stock_df['Adj Close'].plot.line()\n",
    "    plt.show()\n",
    "\n",
    "    stock_monthly_returns = stock_df['Adj Close'].resample('M').ffill().pct_change() * 100\n",
    "    stock_yearly_returns = stock_df['Adj Close'].resample('Y').ffill().pct_change() * 100\n",
    "\n",
    "    stock_yearly_returns.index = stock_yearly_returns.index.strftime('%Y') #將 index 的 dateformat 改成‘年’\n",
    "    print('年度報酬率：')\n",
    "    stock_yearly_returns.dropna().plot(kind='bar')\n",
    "    plt.show()\n",
    "\n",
    "    stock_daily_return = stock_df['Adj Close'].ffill().pct_change()\n",
    "\n",
    "    start = stock_daily_return.index[0]\n",
    "    end = stock_daily_return.index[-1]  # 以 stock 的最後一天為結束日期.\n",
    "\n",
    "    year_difference = relativedelta(end, start).years + \\\n",
    "        (relativedelta(end, start).months)/12 + \\\n",
    "        (relativedelta(end, start).days)/365.2425\n",
    "\n",
    "    # 假設一開始我們有 3000 元\n",
    "\n",
    "    init_balance = balance = 3000\n",
    "    total_balance = stock_daily_return.copy()\n",
    "    total_balance[0] = 0\n",
    "\n",
    "    for i in range(len(stock_daily_return)):\n",
    "        balance = balance * (1+total_balance[i])\n",
    "        total_balance[i] = balance\n",
    "\n",
    "    total_balance.rename('成長變化', inplace=True)\n",
    "\n",
    "    return_rate = (total_balance[-1] - total_balance[0])/total_balance[0]\n",
    "\n",
    "    cgar = (((1+return_rate)**(1/year_difference))-1)\n",
    "\n",
    "    print(f'經過 {year_difference} 年後，變成 {total_balance[-1]} 元｜年化報酬率為 {cgar * 100}%')\n",
    "\n",
    "\n",
    "    # 股票基本資料\n",
    "    stock_info = stock_obj.info"
   ]
  },
  {
   "cell_type": "markdown",
   "metadata": {},
   "source": [
    "實際跑一次看看："
   ]
  },
  {
   "cell_type": "code",
   "execution_count": 9,
   "metadata": {},
   "outputs": [
    {
     "name": "stdout",
     "output_type": "stream",
     "text": [
      "分析 Yuanta/P-shares Taiwan Top 50 ETF\n",
      "參考時價：139.40｜殖利率：2.1879483500717356%\n",
      "股市回測線：\n"
     ]
    },
    {
     "data": {
      "image/png": "[encoded data removed]",
      "text/plain": [
       "<Figure size 432x288 with 1 Axes>"
      ]
     },
     "metadata": {
      "needs_background": "light"
     },
     "output_type": "display_data"
    },
    {
     "name": "stdout",
     "output_type": "stream",
     "text": [
      "年度報酬率：\n"
     ]
    },
    {
     "data": {
      "image/png": "[encoded data removed]",
      "text/plain": [
       "<Figure size 432x288 with 1 Axes>"
      ]
     },
     "metadata": {
      "needs_background": "light"
     },
     "output_type": "display_data"
    },
    {
     "name": "stdout",
     "output_type": "stream",
     "text": [
      "經過 9.98511434184138 年後，變成 6872.448913061019 元｜年化報酬率為 8.655744863982019%\n"
     ]
    }
   ],
   "source": [
    "app()"
   ]
  }
 ],
 "metadata": {
  "interpreter": {
   "hash": "28caf148f76127a42e33148cd18d56973c8a7d4d28a598147115da3266e22f30"
  },
  "kernelspec": {
   "display_name": "Python 3",
   "language": "python",
   "name": "python3"
  },
  "language_info": {
   "codemirror_mode": {
    "name": "ipython",
    "version": 3
   },
   "file_extension": ".py",
   "mimetype": "text/x-python",
   "name": "python",
   "nbconvert_exporter": "python",
   "pygments_lexer": "ipython3",
   "version": "3.8.2"
  }
 },
 "nbformat": 4,
 "nbformat_minor": 4
}
