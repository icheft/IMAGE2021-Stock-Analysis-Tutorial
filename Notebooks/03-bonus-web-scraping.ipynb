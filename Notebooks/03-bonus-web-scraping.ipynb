{
 "cells": [
  {
   "cell_type": "markdown",
   "metadata": {
    "jp-MarkdownHeadingCollapsed": true,
    "tags": []
   },
   "source": [
    "<center>\n",
    "    <h1>進階 Python</h1>\n",
    "    <h3>用 Python 簡單打造一個屬於自己的投資分析 App</h3>\n",
    "    <h3>Part I - Python 爬蟲</h3>\n",
    "</center>\n"
   ]
  },
  {
   "cell_type": "markdown",
   "metadata": {},
   "source": [
    "<h2>目錄</h2>\n",
    "<div class=\"alert alert-block alert-info\" style=\"margin-top: 20px\">\n",
    "    <ul>\n",
    "        <li>\n",
    "            Beautiful Soup 套件\n",
    "            <ul>\n",
    "                <li>Tag</li>\n",
    "                <li>Children, Parents, and Siblings</li>\n",
    "                <li>HTML Attributes</li>\n",
    "                <li>Navigable String</li>\n",
    "            </ul>\n",
    "        </li>\n",
    "     </ul>\n",
    "    <ul>\n",
    "        <li>\n",
    "            Filter\n",
    "            <ul>\n",
    "                <li>find All</li>\n",
    "                <li>find </li>\n",
    "                <li>HTML Attributes</li>\n",
    "                <li>Navigable String</li>\n",
    "            </ul>\n",
    "        </li>\n",
    "     </ul>\n",
    "     <ul>\n",
    "        <li>\n",
    "        實作\n",
    "        <ul>\n",
    "        <li>股票現價爬取</li>\n",
    "        <li>股票股利政策爬取</li>\n",
    "    </li>\n",
    "         </ul>\n",
    "    \n",
    "</div>\n",
    "\n",
    "<hr>\n"
   ]
  },
  {
   "cell_type": "code",
   "execution_count": 1,
   "metadata": {},
   "outputs": [
    {
     "name": "stdout",
     "output_type": "stream",
     "text": [
      "Requirement already satisfied: bs4 in /Users/brian/.local/share/virtualenvs/Simple_Stock_Analyzer-vams2CfO/lib/python3.8/site-packages (0.0.1)\n",
      "Requirement already satisfied: beautifulsoup4 in /Users/brian/.local/share/virtualenvs/Simple_Stock_Analyzer-vams2CfO/lib/python3.8/site-packages (from bs4) (4.9.3)\n",
      "Requirement already satisfied: soupsieve>1.2 in /Users/brian/.local/share/virtualenvs/Simple_Stock_Analyzer-vams2CfO/lib/python3.8/site-packages (from beautifulsoup4->bs4) (2.2)\n",
      "\u001b[33mWARNING: You are using pip version 21.0.1; however, version 21.1.1 is available.\n",
      "You should consider upgrading via the '/Users/brian/.local/share/virtualenvs/Simple_Stock_Analyzer-vams2CfO/bin/python -m pip install --upgrade pip' command.\u001b[0m\n",
      "Note: you may need to restart the kernel to use updated packages.\n"
     ]
    }
   ],
   "source": [
    "%pip install bs4"
   ]
  },
  {
   "cell_type": "code",
   "execution_count": 1,
   "metadata": {},
   "outputs": [],
   "source": [
    "from bs4 import BeautifulSoup\n",
    "import time\n",
    "from datetime import datetime\n",
    "import requests # 實作時會用到"
   ]
  },
  {
   "cell_type": "code",
   "execution_count": 3,
   "metadata": {},
   "outputs": [
    {
     "data": {
      "text/html": [
       "<!DOCTYPE html>\n",
       "<html>\n",
       "<head>\n",
       "<title>NBA 球員薪水</title>\n",
       "</head>\n",
       "<body>\n",
       "<h3><b id='highest'>Lebron James</b></h3>\n",
       "<p> Salary: $ 92,000,000 </p>\n",
       "<h3> Stephen Curry</h3>\n",
       "<p> Salary: $85,000,000 </p>\n",
       "<h3> Kevin Durant </h3>\n",
       "<p> Salary: $73,200,000</p>\n",
       "</body>\n",
       "</html>\n"
      ],
      "text/plain": [
       "<IPython.core.display.HTML object>"
      ]
     },
     "metadata": {},
     "output_type": "display_data"
    }
   ],
   "source": [
    "%%html\n",
    "<!DOCTYPE html>\n",
    "<html>\n",
    "<head>\n",
    "<title>NBA 球員薪水</title>\n",
    "</head>\n",
    "<body>\n",
    "<h3><b id='highest'>Lebron James</b></h3>\n",
    "<p> Salary: $ 92,000,000 </p>\n",
    "<h3> Stephen Curry</h3>\n",
    "<p> Salary: $85,000,000 </p>\n",
    "<h3> Kevin Durant </h3>\n",
    "<p> Salary: $73,200,000</p>\n",
    "</body>\n",
    "</html>"
   ]
  },
  {
   "cell_type": "code",
   "execution_count": 4,
   "metadata": {},
   "outputs": [],
   "source": [
    "html=\"<!DOCTYPE html><html><head><title>NBA 球員薪水</title></head><body><h3><b id='highest'>Lebron James</b></h3><p> Salary: $ 92,000,000 </p><h3> Stephen Curry</h3><p> Salary: $85,000,000 </p><h3> Kevin Durant </h3><p> Salary: $73,200,000</p></body></html>\""
   ]
  },
  {
   "cell_type": "code",
   "execution_count": 5,
   "metadata": {},
   "outputs": [],
   "source": [
    "soup = BeautifulSoup(html, 'html.parser')"
   ]
  },
  {
   "cell_type": "code",
   "execution_count": 6,
   "metadata": {},
   "outputs": [
    {
     "name": "stdout",
     "output_type": "stream",
     "text": [
      "<!DOCTYPE html>\n",
      "<html>\n",
      " <head>\n",
      "  <title>\n",
      "   NBA 球員薪水\n",
      "  </title>\n",
      " </head>\n",
      " <body>\n",
      "  <h3>\n",
      "   <b id=\"highest\">\n",
      "    Lebron James\n",
      "   </b>\n",
      "  </h3>\n",
      "  <p>\n",
      "   Salary: $ 92,000,000\n",
      "  </p>\n",
      "  <h3>\n",
      "   Stephen Curry\n",
      "  </h3>\n",
      "  <p>\n",
      "   Salary: $85,000,000\n",
      "  </p>\n",
      "  <h3>\n",
      "   Kevin Durant\n",
      "  </h3>\n",
      "  <p>\n",
      "   Salary: $73,200,000\n",
      "  </p>\n",
      " </body>\n",
      "</html>\n"
     ]
    }
   ],
   "source": [
    "print(soup.prettify())"
   ]
  },
  {
   "cell_type": "markdown",
   "metadata": {},
   "source": [
    "### Tag\n",
    "\n",
    "`title`, `h1`, `p` 都屬於一種 Tag。"
   ]
  },
  {
   "cell_type": "code",
   "execution_count": 7,
   "metadata": {},
   "outputs": [
    {
     "name": "stdout",
     "output_type": "stream",
     "text": [
      "tag object: <title>NBA 球員薪水</title>\n",
      "tag object type: <class 'bs4.element.Tag'>\n"
     ]
    }
   ],
   "source": [
    "tag_object = soup.title\n",
    "print(\"tag object:\",tag_object)\n",
    "print(\"tag object type:\",type(tag_object))"
   ]
  },
  {
   "cell_type": "markdown",
   "metadata": {},
   "source": [
    "如果有大於一個 tag 的話，則會找第一個擁有該名字的 element。"
   ]
  },
  {
   "cell_type": "code",
   "execution_count": 8,
   "metadata": {},
   "outputs": [
    {
     "data": {
      "text/plain": [
       "<h3><b id=\"highest\">Lebron James</b></h3>"
      ]
     },
     "execution_count": 8,
     "metadata": {},
     "output_type": "execute_result"
    }
   ],
   "source": [
    "tag_object=soup.h3\n",
    "tag_object"
   ]
  },
  {
   "cell_type": "markdown",
   "metadata": {},
   "source": [
    "### Children, Parents, and Siblings"
   ]
  },
  {
   "cell_type": "code",
   "execution_count": 9,
   "metadata": {},
   "outputs": [
    {
     "name": "stdout",
     "output_type": "stream",
     "text": [
      "<b id=\"highest\">Lebron James</b>\n",
      "<h3><b id=\"highest\">Lebron James</b></h3>\n",
      "<p> Salary: $ 92,000,000 </p>\n"
     ]
    }
   ],
   "source": [
    "tag_child =tag_object.b\n",
    "print(tag_child)\n",
    "\n",
    "parent_tag=tag_child.parent\n",
    "print(parent_tag)\n",
    "\n",
    "sibling_1=tag_object.next_sibling\n",
    "print(sibling_1)"
   ]
  },
  {
   "cell_type": "markdown",
   "metadata": {},
   "source": [
    "### 小練習\n",
    "\n",
    "用 `next_sibling` 尋找一下 Stephen Curry 的薪水吧。"
   ]
  },
  {
   "cell_type": "code",
   "execution_count": 10,
   "metadata": {},
   "outputs": [
    {
     "data": {
      "text/plain": [
       "<h3> Stephen Curry</h3>"
      ]
     },
     "execution_count": 10,
     "metadata": {},
     "output_type": "execute_result"
    }
   ],
   "source": [
    "sibling_2=sibling_1.next_sibling\n",
    "sibling_2"
   ]
  },
  {
   "cell_type": "markdown",
   "metadata": {},
   "source": [
    "### HTML Attributes\n",
    "\n",
    "`id`, `class` 都算！"
   ]
  },
  {
   "cell_type": "code",
   "execution_count": 11,
   "metadata": {},
   "outputs": [
    {
     "data": {
      "text/plain": [
       "'highest'"
      ]
     },
     "execution_count": 11,
     "metadata": {},
     "output_type": "execute_result"
    }
   ],
   "source": [
    "tag_child['id']\n",
    "\n",
    "# 跟\n",
    "\n",
    "tag_child.get('id')\n",
    "\n",
    "# 是一樣的"
   ]
  },
  {
   "cell_type": "code",
   "execution_count": 12,
   "metadata": {},
   "outputs": [
    {
     "data": {
      "text/plain": [
       "{'id': 'highest'}"
      ]
     },
     "execution_count": 12,
     "metadata": {},
     "output_type": "execute_result"
    }
   ],
   "source": [
    "tag_child.attrs"
   ]
  },
  {
   "cell_type": "markdown",
   "metadata": {},
   "source": [
    "### Navigable String\n",
    "\n",
    "Beautiful Soup 特有的型別，就像 `\"blah blah blah\"` 是個字串，在 Beautiful Soup 裡面的字串我們稱為 Navigable String。"
   ]
  },
  {
   "cell_type": "code",
   "execution_count": 13,
   "metadata": {},
   "outputs": [
    {
     "name": "stdout",
     "output_type": "stream",
     "text": [
      "Lebron James\n",
      "Lebron James\n"
     ]
    }
   ],
   "source": [
    "tag_string=tag_child.string\n",
    "print(tag_string)\n",
    "\n",
    "standard_string = str(tag_string)\n",
    "print(standard_string)"
   ]
  },
  {
   "cell_type": "markdown",
   "metadata": {},
   "source": [
    "## Filter"
   ]
  },
  {
   "cell_type": "code",
   "execution_count": 14,
   "metadata": {},
   "outputs": [
    {
     "data": {
      "text/html": [
       "<table>\n",
       "  <tr>\n",
       "    <td id='player' >Player No</td>\n",
       "    <td>Team</td> \n",
       "    <td>Salary</td>\n",
       "   </tr>\n",
       "  <tr class='lebron'> \n",
       "    <td>23</td>\n",
       "    <td><a href='https://www.nba.com/player/2544/lebron_james'>LeBron James</a></td>\n",
       "    <td>$ 92,000,000</td>\n",
       "  </tr>\n",
       "  <tr>\n",
       "    <td>30</td>\n",
       "    <td><a href='https://www.nba.com/player/201939/stephen-curry'>Stephen Curry</a></td>\n",
       "    <td>$85,000,000</td>\n",
       "  </tr>\n",
       "  <tr>\n",
       "    <td>7</td>\n",
       "    <td><a href='https://www.nba.com/player/201142/kevin-durant'>Kevin Durrant<a> </td>\n",
       "    <td>$73,200,000</td>\n",
       "  </tr>\n",
       "</table>\n"
      ],
      "text/plain": [
       "<IPython.core.display.HTML object>"
      ]
     },
     "metadata": {},
     "output_type": "display_data"
    }
   ],
   "source": [
    "%%html\n",
    "<table>\n",
    "  <tr>\n",
    "    <td id='player' >Player No</td>\n",
    "    <td>Team</td> \n",
    "    <td>Salary</td>\n",
    "   </tr>\n",
    "  <tr class='lebron'> \n",
    "    <td>23</td>\n",
    "    <td><a href='https://www.nba.com/player/2544/lebron_james'>LeBron James</a></td>\n",
    "    <td>$ 92,000,000</td>\n",
    "  </tr>\n",
    "  <tr>\n",
    "    <td>30</td>\n",
    "    <td><a href='https://www.nba.com/player/201939/stephen-curry'>Stephen Curry</a></td>\n",
    "    <td>$85,000,000</td>\n",
    "  </tr>\n",
    "  <tr>\n",
    "    <td>7</td>\n",
    "    <td><a href='https://www.nba.com/player/201142/kevin-durant'>Kevin Durrant<a> </td>\n",
    "    <td>$73,200,000</td>\n",
    "  </tr>\n",
    "</table>"
   ]
  },
  {
   "cell_type": "code",
   "execution_count": 15,
   "metadata": {},
   "outputs": [],
   "source": [
    "table=\"\"\"%%html\n",
    "<table>\n",
    "  <tr>\n",
    "    <td id='player' >Player No</td>\n",
    "    <td>Team</td> \n",
    "    <td>Salary</td>\n",
    "   </tr>\n",
    "  <tr class='lebron'> \n",
    "    <td>23</td>\n",
    "    <td><a href='https://www.nba.com/player/2544/lebron_james'>LeBron James</a></td>\n",
    "    <td>$ 92,000,000</td>\n",
    "  </tr>\n",
    "  <tr>\n",
    "    <td>30</td>\n",
    "    <td><a href='https://www.nba.com/player/201939/stephen-curry'>Stephen Curry</a></td>\n",
    "    <td>$85,000,000</td>\n",
    "  </tr>\n",
    "  <tr>\n",
    "    <td>7</td>\n",
    "    <td><a href='https://www.nba.com/player/201142/kevin-durant'>Kevin Durrant<a> </td>\n",
    "    <td>$73,200,000</td>\n",
    "  </tr>\n",
    "</table>\n",
    "\"\"\""
   ]
  },
  {
   "cell_type": "code",
   "execution_count": 17,
   "metadata": {},
   "outputs": [],
   "source": [
    "table_bs = BeautifulSoup(table, 'html.parser')"
   ]
  },
  {
   "cell_type": "markdown",
   "metadata": {},
   "source": [
    "### find all"
   ]
  },
  {
   "cell_type": "code",
   "execution_count": 18,
   "metadata": {},
   "outputs": [
    {
     "data": {
      "text/plain": [
       "[<tr>\n",
       " <td id=\"player\">Player No</td>\n",
       " <td>Team</td>\n",
       " <td>Salary</td>\n",
       " </tr>,\n",
       " <tr class=\"lebron\">\n",
       " <td>23</td>\n",
       " <td><a href=\"https://www.nba.com/player/2544/lebron_james\">LeBron James</a></td>\n",
       " <td>$ 92,000,000</td>\n",
       " </tr>,\n",
       " <tr>\n",
       " <td>30</td>\n",
       " <td><a href=\"https://www.nba.com/player/201939/stephen-curry\">Stephen Curry</a></td>\n",
       " <td>$85,000,000</td>\n",
       " </tr>,\n",
       " <tr>\n",
       " <td>7</td>\n",
       " <td><a href=\"https://www.nba.com/player/201142/kevin-durant\">Kevin Durrant<a> </a></a></td>\n",
       " <td>$73,200,000</td>\n",
       " </tr>]"
      ]
     },
     "execution_count": 18,
     "metadata": {},
     "output_type": "execute_result"
    }
   ],
   "source": [
    "# tag\n",
    "table_rows=table_bs.find_all('tr')\n",
    "table_rows"
   ]
  },
  {
   "cell_type": "code",
   "execution_count": 19,
   "metadata": {},
   "outputs": [
    {
     "data": {
      "text/plain": [
       "<tr>\n",
       "<td id=\"player\">Player No</td>\n",
       "<td>Team</td>\n",
       "<td>Salary</td>\n",
       "</tr>"
      ]
     },
     "execution_count": 19,
     "metadata": {},
     "output_type": "execute_result"
    }
   ],
   "source": [
    "first_row =table_rows[0]\n",
    "first_row"
   ]
  },
  {
   "cell_type": "code",
   "execution_count": 20,
   "metadata": {},
   "outputs": [
    {
     "name": "stdout",
     "output_type": "stream",
     "text": [
      "row 0 is <tr>\n",
      "<td id=\"player\">Player No</td>\n",
      "<td>Team</td>\n",
      "<td>Salary</td>\n",
      "</tr>\n",
      "row 1 is <tr class=\"lebron\">\n",
      "<td>23</td>\n",
      "<td><a href=\"https://www.nba.com/player/2544/lebron_james\">LeBron James</a></td>\n",
      "<td>$ 92,000,000</td>\n",
      "</tr>\n",
      "row 2 is <tr>\n",
      "<td>30</td>\n",
      "<td><a href=\"https://www.nba.com/player/201939/stephen-curry\">Stephen Curry</a></td>\n",
      "<td>$85,000,000</td>\n",
      "</tr>\n",
      "row 3 is <tr>\n",
      "<td>7</td>\n",
      "<td><a href=\"https://www.nba.com/player/201142/kevin-durant\">Kevin Durrant<a> </a></a></td>\n",
      "<td>$73,200,000</td>\n",
      "</tr>\n"
     ]
    }
   ],
   "source": [
    "for i,row in enumerate(table_rows):\n",
    "    print(\"row\",i,\"is\",row)\n",
    "    "
   ]
  },
  {
   "cell_type": "code",
   "execution_count": 21,
   "metadata": {},
   "outputs": [
    {
     "name": "stdout",
     "output_type": "stream",
     "text": [
      "row 0\n",
      "colunm 0 cell <td id=\"player\">Player No</td>\n",
      "colunm 1 cell <td>Team</td>\n",
      "colunm 2 cell <td>Salary</td>\n",
      "row 1\n",
      "colunm 0 cell <td>23</td>\n",
      "colunm 1 cell <td><a href=\"https://www.nba.com/player/2544/lebron_james\">LeBron James</a></td>\n",
      "colunm 2 cell <td>$ 92,000,000</td>\n",
      "row 2\n",
      "colunm 0 cell <td>30</td>\n",
      "colunm 1 cell <td><a href=\"https://www.nba.com/player/201939/stephen-curry\">Stephen Curry</a></td>\n",
      "colunm 2 cell <td>$85,000,000</td>\n",
      "row 3\n",
      "colunm 0 cell <td>7</td>\n",
      "colunm 1 cell <td><a href=\"https://www.nba.com/player/201142/kevin-durant\">Kevin Durrant<a> </a></a></td>\n",
      "colunm 2 cell <td>$73,200,000</td>\n"
     ]
    }
   ],
   "source": [
    "for i,row in enumerate(table_rows):\n",
    "    print(\"row\",i)\n",
    "    cells=row.find_all('td')\n",
    "    for j,cell in enumerate(cells):\n",
    "        print('colunm',j,\"cell\",cell)"
   ]
  },
  {
   "cell_type": "code",
   "execution_count": 22,
   "metadata": {},
   "outputs": [
    {
     "data": {
      "text/plain": [
       "[<tr>\n",
       " <td id=\"player\">Player No</td>\n",
       " <td>Team</td>\n",
       " <td>Salary</td>\n",
       " </tr>,\n",
       " <td id=\"player\">Player No</td>,\n",
       " <td>Team</td>,\n",
       " <td>Salary</td>,\n",
       " <tr class=\"lebron\">\n",
       " <td>23</td>\n",
       " <td><a href=\"https://www.nba.com/player/2544/lebron_james\">LeBron James</a></td>\n",
       " <td>$ 92,000,000</td>\n",
       " </tr>,\n",
       " <td>23</td>,\n",
       " <td><a href=\"https://www.nba.com/player/2544/lebron_james\">LeBron James</a></td>,\n",
       " <td>$ 92,000,000</td>,\n",
       " <tr>\n",
       " <td>30</td>\n",
       " <td><a href=\"https://www.nba.com/player/201939/stephen-curry\">Stephen Curry</a></td>\n",
       " <td>$85,000,000</td>\n",
       " </tr>,\n",
       " <td>30</td>,\n",
       " <td><a href=\"https://www.nba.com/player/201939/stephen-curry\">Stephen Curry</a></td>,\n",
       " <td>$85,000,000</td>,\n",
       " <tr>\n",
       " <td>7</td>\n",
       " <td><a href=\"https://www.nba.com/player/201142/kevin-durant\">Kevin Durrant<a> </a></a></td>\n",
       " <td>$73,200,000</td>\n",
       " </tr>,\n",
       " <td>7</td>,\n",
       " <td><a href=\"https://www.nba.com/player/201142/kevin-durant\">Kevin Durrant<a> </a></a></td>,\n",
       " <td>$73,200,000</td>]"
      ]
     },
     "execution_count": 22,
     "metadata": {},
     "output_type": "execute_result"
    }
   ],
   "source": [
    "list_input=table_bs.find_all(name=[\"tr\", \"td\"])\n",
    "list_input"
   ]
  },
  {
   "cell_type": "markdown",
   "metadata": {},
   "source": [
    "### Attributes"
   ]
  },
  {
   "cell_type": "code",
   "execution_count": 23,
   "metadata": {},
   "outputs": [
    {
     "data": {
      "text/plain": [
       "[<td id=\"player\">Player No</td>]"
      ]
     },
     "execution_count": 23,
     "metadata": {},
     "output_type": "execute_result"
    }
   ],
   "source": [
    "table_bs.find_all(id=\"player\")"
   ]
  },
  {
   "cell_type": "code",
   "execution_count": 24,
   "metadata": {},
   "outputs": [
    {
     "data": {
      "text/plain": [
       "[<a href=\"https://www.nba.com/player/2544/lebron_james\">LeBron James</a>]"
      ]
     },
     "execution_count": 24,
     "metadata": {},
     "output_type": "execute_result"
    }
   ],
   "source": [
    "list_input=table_bs.find_all(href=\"https://www.nba.com/player/2544/lebron_james\")\n",
    "list_input"
   ]
  },
  {
   "cell_type": "code",
   "execution_count": 25,
   "metadata": {},
   "outputs": [
    {
     "data": {
      "text/plain": [
       "['LeBron James']"
      ]
     },
     "execution_count": 25,
     "metadata": {},
     "output_type": "execute_result"
    }
   ],
   "source": [
    "table_bs.find_all(href=True)  # 管他是什麼 href\n",
    "table_bs.find_all(string=\"LeBron James\")"
   ]
  },
  {
   "cell_type": "markdown",
   "metadata": {},
   "source": [
    "### find"
   ]
  },
  {
   "cell_type": "code",
   "execution_count": 26,
   "metadata": {},
   "outputs": [
    {
     "data": {
      "text/plain": [
       "<table>\n",
       "<tr>\n",
       "<td id=\"player\">Player No</td>\n",
       "<td>Team</td>\n",
       "<td>Salary</td>\n",
       "</tr>\n",
       "<tr class=\"lebron\">\n",
       "<td>23</td>\n",
       "<td><a href=\"https://www.nba.com/player/2544/lebron_james\">LeBron James</a></td>\n",
       "<td>$ 92,000,000</td>\n",
       "</tr>\n",
       "<tr>\n",
       "<td>30</td>\n",
       "<td><a href=\"https://www.nba.com/player/201939/stephen-curry\">Stephen Curry</a></td>\n",
       "<td>$85,000,000</td>\n",
       "</tr>\n",
       "<tr>\n",
       "<td>7</td>\n",
       "<td><a href=\"https://www.nba.com/player/201142/kevin-durant\">Kevin Durrant<a> </a></a></td>\n",
       "<td>$73,200,000</td>\n",
       "</tr>\n",
       "</table>"
      ]
     },
     "execution_count": 26,
     "metadata": {},
     "output_type": "execute_result"
    }
   ],
   "source": [
    "table_bs.find(\"table\")"
   ]
  },
  {
   "cell_type": "code",
   "execution_count": 27,
   "metadata": {},
   "outputs": [
    {
     "data": {
      "text/plain": [
       "<tr class=\"lebron\">\n",
       "<td>23</td>\n",
       "<td><a href=\"https://www.nba.com/player/2544/lebron_james\">LeBron James</a></td>\n",
       "<td>$ 92,000,000</td>\n",
       "</tr>"
      ]
     },
     "execution_count": 27,
     "metadata": {},
     "output_type": "execute_result"
    }
   ],
   "source": [
    "table_bs.find(\"tr\",class_='lebron')"
   ]
  },
  {
   "cell_type": "markdown",
   "metadata": {},
   "source": [
    "## 從網路上爬資料！\n",
    "\n",
    "我們直接以股市資料為例。本次我們預計會利用爬蟲技巧，抓取兩（三）項資訊：\n",
    "\n",
    "1. 目前的實價\n",
    "2. 該股票最近一次發放的股票利息（或稱為股利）\n",
    "3. （非硬性）銀行業者的利息政策\n",
    "\n",
    "如果同學還不是很懂股票的操作沒關係。雖然不是本堂課的重點，但我還是稍微介紹一下。\n",
    "\n",
    "股票，如果父母有在玩的話，你們應該多少會聽過「台積電」、「0050」等名詞。近幾年股票重新在台灣掀起一股風潮，連學生也利用自己的小小資金在玩股票。\n",
    "\n",
    "### 股市價錢\n",
    "\n",
    "我們抓股票的價錢，無非是希望能夠看到要用「多少錢」才能夠買「一股」股票。如果你們常常聽到有人說「我買了一『張』台積電」，其實代表的是他買了「一千股」的意思。我們利用等下會的成果來參考一下目前台積點的股市價格：\n",
    "\n"
   ]
  },
  {
   "cell_type": "code",
   "execution_count": 9,
   "metadata": {},
   "outputs": [
    {
     "name": "stdout",
     "output_type": "stream",
     "text": [
      "(2022-01-21 11:38:19.056609) 成交價格為: 143.00\n"
     ]
    }
   ],
   "source": [
    "def get_price(stock_id='0050.TW'):\n",
    "    url = f\"https://tw.stock.yahoo.com/d/s/dividend_{stock_id}.html\"\n",
    "    page = requests.get(url)\n",
    "    soup = BeautifulSoup(page.content, 'html.parser')\n",
    "    price = soup.find('span', {'class': 'Fz(32px) Fw(b) Lh(1) Mend(16px) D(f) Ai(c) C($c-trend-down)'}).text\n",
    "    return price\n",
    "\n",
    "print(f'({datetime.now()}) 成交價格為: {str(get_price(\"0050\"))}')"
   ]
  },
  {
   "cell_type": "markdown",
   "metadata": {},
   "source": [
    "這麼一來，我們甚至不用開啟瀏覽器就可以查到資料了！是不是很方便呢？如果這時候你手上有閒錢，想要買一下台積電，也可以用剛剛所取得的價格進行更多運算。"
   ]
  },
  {
   "cell_type": "code",
   "execution_count": 3,
   "metadata": {},
   "outputs": [],
   "source": [
    "url = f\"https://tw.stock.yahoo.com/d/s/dividend_0050.html\"\n",
    "page = requests.get(url)\n",
    "\n",
    "soup = BeautifulSoup(page.content, 'html.parser')"
   ]
  },
  {
   "cell_type": "code",
   "execution_count": 4,
   "metadata": {},
   "outputs": [],
   "source": [
    "data  = requests.get(url).text # or content\n",
    "soup = BeautifulSoup(data, \"html.parser\")  # create a soup object using the variable 'data'"
   ]
  },
  {
   "cell_type": "code",
   "execution_count": 5,
   "metadata": {},
   "outputs": [
    {
     "name": "stdout",
     "output_type": "stream",
     "text": [
      "https://tw.yahoo.com/\n",
      "https://tw.mail.yahoo.com/?.intl=tw&.lang=zh-Hant-TW\n",
      "https://tw.news.yahoo.com/\n",
      "https://tw.stock.yahoo.com/\n",
      "https://tw.news.yahoo.com/weather/\n",
      "https://tw.sports.yahoo.com/\n",
      "https://tw.tv.yahoo.com/\n",
      "https://yahoomode.tumblr.com/yahooapp/\n",
      "https://tw.buy.yahoo.com/\n",
      "https://tw.mall.yahoo.com/\n",
      "https://tw.bid.yahoo.com/\n",
      "https://tw.yahoo.com/everything/\n",
      "https://yahoomode.tumblr.com/yahooapp/#stock\n",
      "https://tw.stock.yahoo.com/\n",
      "https://login.yahoo.com/?.src=twfinance&.intl=tw&.lang=zh-Hant-TW\n",
      "https://tw.mail.yahoo.com/?.intl=tw&.lang=zh-Hant-TW\n",
      "https://tw.mail.yahoo.com/?.intl=tw&.lang=zh-Hant-TW\n",
      "https://tw.stock.yahoo.com/\n",
      "https://tw.stock.yahoo.com/pf/mypf/\n",
      "https://tw.stock.yahoo.com/class/\n",
      "https://tw.stock.yahoo.com/institutional-trading/\n",
      "https://tw.stock.yahoo.com/trading-vol-ratio/\n",
      "https://tw.stock.yahoo.com/margin-balance/\n",
      "https://tw.stock.yahoo.com/rank/change-up/\n",
      "https://tw.stock.yahoo.com/rank/change-down/\n",
      "https://tw.stock.yahoo.com/rank/volume/\n",
      "https://tw.stock.yahoo.com/rank/foreign-investor-buy/\n",
      "https://tw.stock.yahoo.com/rank/foreign-investor-sell/\n",
      "https://tw.stock.yahoo.com/rank/dealer-buy/\n",
      "https://tw.stock.yahoo.com/rank/dealer-sell/\n",
      "https://tw.stock.yahoo.com/rank/investment-trust-buy/\n",
      "https://tw.stock.yahoo.com/rank/investment-trust-sell/\n",
      "https://tw.stock.yahoo.com/d/i/hot.html\n",
      "https://tw.stock.yahoo.com/s/tse.php/\n",
      "https://tw.stock.yahoo.com/s/nine.php/\n",
      "https://tw.stock.yahoo.com/future/\n",
      "https://tw.stock.yahoo.com/future/futures.html?fumr=futurefull/\n",
      "https://tw.stock.yahoo.com/future/options.html?opmr=optionfull&opcm=WTXO&opym=202008/\n",
      "https://tw.stock.yahoo.com/future/futures_uncovered.html\n",
      "https://tw.stock.yahoo.com/markets/\n",
      "https://tw.stock.yahoo.com/world-indices/\n",
      "https://tw.stock.yahoo.com/currencies/\n",
      "https://tw.stock.yahoo.com/us-market/\n",
      "https://tw.stock.yahoo.com/hk-market/\n",
      "https://tw.stock.yahoo.com/cn-market/\n",
      "https://tw.stock.yahoo.com/commodities/\n",
      "https://tw.stock.yahoo.com/adr/\n",
      "https://tw.stock.yahoo.com/cryptocurrencies/\n",
      "https://tw.stock.yahoo.com/news/\n",
      "https://tw.stock.yahoo.com/column/\n",
      "https://tw.stock.yahoo.com/tw-market/\n",
      "https://tw.stock.yahoo.com/intl-markets/\n",
      "https://tw.stock.yahoo.com/funds-news/\n",
      "https://tw.stock.yahoo.com/research/\n",
      "https://tw.stock.yahoo.com/personal-finance/\n",
      "https://tw.stock.yahoo.com/author/----20120619-091951/\n",
      "https://tw.stock.yahoo.com/author/%E6%9D%8E%E5%85%B6%E5%B1%95/\n",
      "https://tw.stock.yahoo.com/rss-index/\n",
      "https://bit.ly/3nYOVBP\n",
      "https://tw.news.yahoo.com/topic/2022moneytrend\n",
      "https://tw.news.yahoo.com/topic/twcrypto/\n",
      "https://bit.ly/3lbKAcp\n",
      "https://tw.news.yahoo.com/topic/ESG\n",
      "https://tw.news.yahoo.com/topic/etroncar-finance\n",
      "https://tw.news.yahoo.com/topic/covid19-stocks\n",
      "https://bit.ly/3nYOVBP\n",
      "https://stock.campaign.yahoo.com.tw/moneyguide/\n",
      "https://tw.youcard.yahoo.com/category/finance\n",
      "https://tw.news.yahoo.com/topic/insurance\n",
      "https://tw.stock.yahoo.com/author/%E5%91%82%E4%BF%8A%E5%84%80\n",
      "https://tw.stock.yahoo.com/author/%E5%91%82%E4%BF%8A%E5%84%80\n",
      "https://tw.stock.yahoo.com/author/%E5%BC%B5%E5%AE%B6%E8%B1%AA\n",
      "https://tw.stock.yahoo.com/author/%E9%99%B3%E6%80%A1%E6%A8%BA\n",
      "https://tw.screener.finance.yahoo.net/screener/basic.html\n",
      "https://tw.stock.yahoo.com/fund/\n",
      "https://tw.stock.yahoo.com/fund/domestic/\n",
      "https://tw.stock.yahoo.com/fund/offshore/\n",
      "https://tw.stock.yahoo.com/fund/domestic/ranking/\n",
      "https://tw.stock.yahoo.com/fund/search/\n",
      "https://tw.stock.yahoo.com/fund/watchlist/\n",
      "https://tw.stock.yahoo.com/bank/\n",
      "https://tw.stock.yahoo.com/currency-converter/\n",
      "https://tw.stock.yahoo.com/currencies/\n",
      "https://tw.campaign.money.yahoo.com/atm/\n",
      "https://yahoo.ebo.tmnewa.com.tw/tmnewa/portal/index?hashcal=1#calc-tool/\n",
      "https://tw.tv.yahoo.com/stock-watch/\n",
      "https://tw.tv.yahoo.com/stock-watch/\n",
      "https://stock.campaign.yahoo.com.tw/moneyguide/lessons.html\n",
      "https://tw.tv.yahoo.com/winstock/\n",
      "https://tw.tv.yahoo.com/%E5%94%AF%E6%B3%B0%E8%80%81%E5%B8%AB%E8%81%8A%E8%82%A1%E4%BA%8B/\n",
      "https://tw.tv.yahoo.com/Industry-story/\n",
      "https://tw.tv.yahoo.com/moneypower/\n",
      "https://stock.campaign.yahoo.com.tw/moneyguide/micropedia.html\n",
      "#\n",
      "/class-quote?sectorId=26&exchange=TAI\n",
      "/quote/0050\n",
      "/quote/0050/technical-analysis\n",
      "/quote/0050/time-sales\n",
      "/quote/0050/institutional-trading\n",
      "/quote/0050/institutional-trading\n",
      "/quote/0050/broker-trading\n",
      "/quote/0050/margin\n",
      "/quote/0050/major-holders\n",
      "/quote/0050/insider-transactions\n",
      "/quote/0050/dividend\n",
      "/quote/0050/revenue\n",
      "/quote/0050/revenue\n",
      "/quote/0050/eps\n",
      "/quote/0050/income-statement\n",
      "/quote/0050/balance-sheet\n",
      "/quote/0050/cash-flow-statement\n",
      "/quote/0050/profile\n",
      "/quote/0050/compare\n",
      "https://tw.screener.finance.yahoo.net/screener/check.html?symid=0050\n",
      "/quote/0050/news\n",
      "/quote/0050/news\n",
      "/quote/0050/announcement\n",
      "https://tw.help.yahoo.com/kb/stock-tw-web?#topic=TOP_INSTRUCTSTOCK\n",
      "https://tw.help.yahoo.com/kb/SLN35894.html\n",
      "/portfolios\n",
      "/portfolios\n",
      "https://tw.stock.yahoo.com/quote/0056.TW\n",
      "https://tw.stock.yahoo.com/quote/006208.TW\n",
      "https://tw.stock.yahoo.com/quote/00878.TW\n",
      "https://tw.stock.yahoo.com/quote/00900.TW\n",
      "https://tw.stock.yahoo.com/quote/00881.TW\n",
      "https://legal.yahoo.com/tw/zh-hant/yahoo/terms/otos/index.html\n",
      "https://legal.yahoo.com/tw/zh-hant/yahoo/privacy/index.html\n",
      "http://www.tse.com.tw/zh/\n",
      "http://www.taifex.com.tw\n",
      "http://www.tpex.org.tw/web/\n",
      "https://help.yahoo.com/kb/finance-for-desktop/SLN2310.html\n",
      "https://tw.help.yahoo.com/kb/stock-tw-web/SLN28774.html?impressions=true\n",
      "https://tw.systex.com/\n"
     ]
    }
   ],
   "source": [
    "for link in soup.find_all('a',href=True):  # in html anchor/link is represented by the tag <a>\n",
    "    print(link.get('href'))"
   ]
  },
  {
   "cell_type": "code",
   "execution_count": 8,
   "metadata": {},
   "outputs": [
    {
     "data": {
      "text/plain": [
       "'143.00'"
      ]
     },
     "execution_count": 8,
     "metadata": {},
     "output_type": "execute_result"
    }
   ],
   "source": [
    "# soup.find('div',{'class': 'My(6px) Pos(r) smartphone_Mt(6px)'}).find('span').text\n",
    "soup.find('span', {'class': 'Fz(32px) Fw(b) Lh(1) Mend(16px) D(f) Ai(c) C($c-trend-down)'}).text"
   ]
  },
  {
   "cell_type": "code",
   "execution_count": 35,
   "metadata": {},
   "outputs": [
    {
     "data": {
      "text/plain": [
       "'139.40'"
      ]
     },
     "execution_count": 35,
     "metadata": {},
     "output_type": "execute_result"
    }
   ],
   "source": [
    "# soup.find('span',{'class': 'Trsdu(0.3s) Fw(b) Fz(36px) Mb(-4px) D(ib)'}).text"
   ]
  },
  {
   "cell_type": "markdown",
   "metadata": {},
   "source": [
    "把上述程式寫成一個函式的最後成果："
   ]
  },
  {
   "cell_type": "code",
   "execution_count": 12,
   "metadata": {},
   "outputs": [
    {
     "name": "stdout",
     "output_type": "stream",
     "text": [
      "(2022-01-21 12:29:00.477682) 成交價格為：142.85\n",
      "(2022-01-21 12:29:00.950914) 成交價格為：142.85\n",
      "(2022-01-21 12:29:01.497743) 成交價格為：142.85\n",
      "(2022-01-21 12:29:01.956016) 成交價格為：142.85\n",
      "(2022-01-21 12:29:02.684854) 成交價格為：142.85\n",
      "(2022-01-21 12:29:03.553704) 成交價格為：142.85\n",
      "(2022-01-21 12:29:04.010949) 成交價格為：142.85\n",
      "(2022-01-21 12:29:04.631027) 成交價格為：142.85\n",
      "(2022-01-21 12:29:05.137940) 成交價格為：142.85\n"
     ]
    },
    {
     "ename": "KeyboardInterrupt",
     "evalue": "",
     "output_type": "error",
     "traceback": [
      "\u001b[0;31m---------------------------------------------------------------------------\u001b[0m",
      "\u001b[0;31mKeyboardInterrupt\u001b[0m                         Traceback (most recent call last)",
      "\u001b[0;32m<ipython-input-12-c7c11cc7cb9c>\u001b[0m in \u001b[0;36m<module>\u001b[0;34m\u001b[0m\n\u001b[1;32m      7\u001b[0m \u001b[0;34m\u001b[0m\u001b[0m\n\u001b[1;32m      8\u001b[0m \u001b[0;32mwhile\u001b[0m \u001b[0;32mTrue\u001b[0m\u001b[0;34m:\u001b[0m\u001b[0;34m\u001b[0m\u001b[0;34m\u001b[0m\u001b[0m\n\u001b[0;32m----> 9\u001b[0;31m     \u001b[0mprint\u001b[0m\u001b[0;34m(\u001b[0m\u001b[0;34mf'({datetime.now()}) 成交價格為：{str(get_price())}'\u001b[0m\u001b[0;34m)\u001b[0m\u001b[0;34m\u001b[0m\u001b[0;34m\u001b[0m\u001b[0m\n\u001b[0m",
      "\u001b[0;32m<ipython-input-12-c7c11cc7cb9c>\u001b[0m in \u001b[0;36mget_price\u001b[0;34m(stock_id)\u001b[0m\n\u001b[1;32m      1\u001b[0m \u001b[0;32mdef\u001b[0m \u001b[0mget_price\u001b[0m\u001b[0;34m(\u001b[0m\u001b[0mstock_id\u001b[0m\u001b[0;34m=\u001b[0m\u001b[0;34m'0050.TW'\u001b[0m\u001b[0;34m)\u001b[0m\u001b[0;34m:\u001b[0m\u001b[0;34m\u001b[0m\u001b[0;34m\u001b[0m\u001b[0m\n\u001b[1;32m      2\u001b[0m     \u001b[0murl\u001b[0m \u001b[0;34m=\u001b[0m \u001b[0;34mf\"https://tw.stock.yahoo.com/d/s/dividend_{stock_id.split('.')[0]}.html\"\u001b[0m\u001b[0;34m\u001b[0m\u001b[0;34m\u001b[0m\u001b[0m\n\u001b[0;32m----> 3\u001b[0;31m     \u001b[0mpage\u001b[0m \u001b[0;34m=\u001b[0m \u001b[0mrequests\u001b[0m\u001b[0;34m.\u001b[0m\u001b[0mget\u001b[0m\u001b[0;34m(\u001b[0m\u001b[0murl\u001b[0m\u001b[0;34m)\u001b[0m\u001b[0;34m\u001b[0m\u001b[0;34m\u001b[0m\u001b[0m\n\u001b[0m\u001b[1;32m      4\u001b[0m     \u001b[0msoup\u001b[0m \u001b[0;34m=\u001b[0m \u001b[0mBeautifulSoup\u001b[0m\u001b[0;34m(\u001b[0m\u001b[0mpage\u001b[0m\u001b[0;34m.\u001b[0m\u001b[0mcontent\u001b[0m\u001b[0;34m,\u001b[0m \u001b[0;34m'html.parser'\u001b[0m\u001b[0;34m)\u001b[0m\u001b[0;34m\u001b[0m\u001b[0;34m\u001b[0m\u001b[0m\n\u001b[1;32m      5\u001b[0m     \u001b[0mprice\u001b[0m \u001b[0;34m=\u001b[0m \u001b[0msoup\u001b[0m\u001b[0;34m.\u001b[0m\u001b[0mfind\u001b[0m\u001b[0;34m(\u001b[0m\u001b[0;34m'span'\u001b[0m\u001b[0;34m,\u001b[0m \u001b[0;34m{\u001b[0m\u001b[0;34m'class'\u001b[0m\u001b[0;34m:\u001b[0m \u001b[0;34m'Fz(32px) Fw(b) Lh(1) Mend(16px) D(f) Ai(c) C($c-trend-down)'\u001b[0m\u001b[0;34m}\u001b[0m\u001b[0;34m)\u001b[0m\u001b[0;34m.\u001b[0m\u001b[0mtext\u001b[0m\u001b[0;34m\u001b[0m\u001b[0;34m\u001b[0m\u001b[0m\n",
      "\u001b[0;32m~/opt/anaconda3/envs/DS/lib/python3.8/site-packages/requests/api.py\u001b[0m in \u001b[0;36mget\u001b[0;34m(url, params, **kwargs)\u001b[0m\n\u001b[1;32m     74\u001b[0m \u001b[0;34m\u001b[0m\u001b[0m\n\u001b[1;32m     75\u001b[0m     \u001b[0mkwargs\u001b[0m\u001b[0;34m.\u001b[0m\u001b[0msetdefault\u001b[0m\u001b[0;34m(\u001b[0m\u001b[0;34m'allow_redirects'\u001b[0m\u001b[0;34m,\u001b[0m \u001b[0;32mTrue\u001b[0m\u001b[0;34m)\u001b[0m\u001b[0;34m\u001b[0m\u001b[0;34m\u001b[0m\u001b[0m\n\u001b[0;32m---> 76\u001b[0;31m     \u001b[0;32mreturn\u001b[0m \u001b[0mrequest\u001b[0m\u001b[0;34m(\u001b[0m\u001b[0;34m'get'\u001b[0m\u001b[0;34m,\u001b[0m \u001b[0murl\u001b[0m\u001b[0;34m,\u001b[0m \u001b[0mparams\u001b[0m\u001b[0;34m=\u001b[0m\u001b[0mparams\u001b[0m\u001b[0;34m,\u001b[0m \u001b[0;34m**\u001b[0m\u001b[0mkwargs\u001b[0m\u001b[0;34m)\u001b[0m\u001b[0;34m\u001b[0m\u001b[0;34m\u001b[0m\u001b[0m\n\u001b[0m\u001b[1;32m     77\u001b[0m \u001b[0;34m\u001b[0m\u001b[0m\n\u001b[1;32m     78\u001b[0m \u001b[0;34m\u001b[0m\u001b[0m\n",
      "\u001b[0;32m~/opt/anaconda3/envs/DS/lib/python3.8/site-packages/requests/api.py\u001b[0m in \u001b[0;36mrequest\u001b[0;34m(method, url, **kwargs)\u001b[0m\n\u001b[1;32m     59\u001b[0m     \u001b[0;31m# cases, and look like a memory leak in others.\u001b[0m\u001b[0;34m\u001b[0m\u001b[0;34m\u001b[0m\u001b[0;34m\u001b[0m\u001b[0m\n\u001b[1;32m     60\u001b[0m     \u001b[0;32mwith\u001b[0m \u001b[0msessions\u001b[0m\u001b[0;34m.\u001b[0m\u001b[0mSession\u001b[0m\u001b[0;34m(\u001b[0m\u001b[0;34m)\u001b[0m \u001b[0;32mas\u001b[0m \u001b[0msession\u001b[0m\u001b[0;34m:\u001b[0m\u001b[0;34m\u001b[0m\u001b[0;34m\u001b[0m\u001b[0m\n\u001b[0;32m---> 61\u001b[0;31m         \u001b[0;32mreturn\u001b[0m \u001b[0msession\u001b[0m\u001b[0;34m.\u001b[0m\u001b[0mrequest\u001b[0m\u001b[0;34m(\u001b[0m\u001b[0mmethod\u001b[0m\u001b[0;34m=\u001b[0m\u001b[0mmethod\u001b[0m\u001b[0;34m,\u001b[0m \u001b[0murl\u001b[0m\u001b[0;34m=\u001b[0m\u001b[0murl\u001b[0m\u001b[0;34m,\u001b[0m \u001b[0;34m**\u001b[0m\u001b[0mkwargs\u001b[0m\u001b[0;34m)\u001b[0m\u001b[0;34m\u001b[0m\u001b[0;34m\u001b[0m\u001b[0m\n\u001b[0m\u001b[1;32m     62\u001b[0m \u001b[0;34m\u001b[0m\u001b[0m\n\u001b[1;32m     63\u001b[0m \u001b[0;34m\u001b[0m\u001b[0m\n",
      "\u001b[0;32m~/opt/anaconda3/envs/DS/lib/python3.8/site-packages/requests/sessions.py\u001b[0m in \u001b[0;36mrequest\u001b[0;34m(self, method, url, params, data, headers, cookies, files, auth, timeout, allow_redirects, proxies, hooks, stream, verify, cert, json)\u001b[0m\n\u001b[1;32m    540\u001b[0m         }\n\u001b[1;32m    541\u001b[0m         \u001b[0msend_kwargs\u001b[0m\u001b[0;34m.\u001b[0m\u001b[0mupdate\u001b[0m\u001b[0;34m(\u001b[0m\u001b[0msettings\u001b[0m\u001b[0;34m)\u001b[0m\u001b[0;34m\u001b[0m\u001b[0;34m\u001b[0m\u001b[0m\n\u001b[0;32m--> 542\u001b[0;31m         \u001b[0mresp\u001b[0m \u001b[0;34m=\u001b[0m \u001b[0mself\u001b[0m\u001b[0;34m.\u001b[0m\u001b[0msend\u001b[0m\u001b[0;34m(\u001b[0m\u001b[0mprep\u001b[0m\u001b[0;34m,\u001b[0m \u001b[0;34m**\u001b[0m\u001b[0msend_kwargs\u001b[0m\u001b[0;34m)\u001b[0m\u001b[0;34m\u001b[0m\u001b[0;34m\u001b[0m\u001b[0m\n\u001b[0m\u001b[1;32m    543\u001b[0m \u001b[0;34m\u001b[0m\u001b[0m\n\u001b[1;32m    544\u001b[0m         \u001b[0;32mreturn\u001b[0m \u001b[0mresp\u001b[0m\u001b[0;34m\u001b[0m\u001b[0;34m\u001b[0m\u001b[0m\n",
      "\u001b[0;32m~/opt/anaconda3/envs/DS/lib/python3.8/site-packages/requests/sessions.py\u001b[0m in \u001b[0;36msend\u001b[0;34m(self, request, **kwargs)\u001b[0m\n\u001b[1;32m    653\u001b[0m \u001b[0;34m\u001b[0m\u001b[0m\n\u001b[1;32m    654\u001b[0m         \u001b[0;31m# Send the request\u001b[0m\u001b[0;34m\u001b[0m\u001b[0;34m\u001b[0m\u001b[0;34m\u001b[0m\u001b[0m\n\u001b[0;32m--> 655\u001b[0;31m         \u001b[0mr\u001b[0m \u001b[0;34m=\u001b[0m \u001b[0madapter\u001b[0m\u001b[0;34m.\u001b[0m\u001b[0msend\u001b[0m\u001b[0;34m(\u001b[0m\u001b[0mrequest\u001b[0m\u001b[0;34m,\u001b[0m \u001b[0;34m**\u001b[0m\u001b[0mkwargs\u001b[0m\u001b[0;34m)\u001b[0m\u001b[0;34m\u001b[0m\u001b[0;34m\u001b[0m\u001b[0m\n\u001b[0m\u001b[1;32m    656\u001b[0m \u001b[0;34m\u001b[0m\u001b[0m\n\u001b[1;32m    657\u001b[0m         \u001b[0;31m# Total elapsed time of the request (approximately)\u001b[0m\u001b[0;34m\u001b[0m\u001b[0;34m\u001b[0m\u001b[0;34m\u001b[0m\u001b[0m\n",
      "\u001b[0;32m~/opt/anaconda3/envs/DS/lib/python3.8/site-packages/requests/adapters.py\u001b[0m in \u001b[0;36msend\u001b[0;34m(self, request, stream, timeout, verify, cert, proxies)\u001b[0m\n\u001b[1;32m    437\u001b[0m         \u001b[0;32mtry\u001b[0m\u001b[0;34m:\u001b[0m\u001b[0;34m\u001b[0m\u001b[0;34m\u001b[0m\u001b[0m\n\u001b[1;32m    438\u001b[0m             \u001b[0;32mif\u001b[0m \u001b[0;32mnot\u001b[0m \u001b[0mchunked\u001b[0m\u001b[0;34m:\u001b[0m\u001b[0;34m\u001b[0m\u001b[0;34m\u001b[0m\u001b[0m\n\u001b[0;32m--> 439\u001b[0;31m                 resp = conn.urlopen(\n\u001b[0m\u001b[1;32m    440\u001b[0m                     \u001b[0mmethod\u001b[0m\u001b[0;34m=\u001b[0m\u001b[0mrequest\u001b[0m\u001b[0;34m.\u001b[0m\u001b[0mmethod\u001b[0m\u001b[0;34m,\u001b[0m\u001b[0;34m\u001b[0m\u001b[0;34m\u001b[0m\u001b[0m\n\u001b[1;32m    441\u001b[0m                     \u001b[0murl\u001b[0m\u001b[0;34m=\u001b[0m\u001b[0murl\u001b[0m\u001b[0;34m,\u001b[0m\u001b[0;34m\u001b[0m\u001b[0;34m\u001b[0m\u001b[0m\n",
      "\u001b[0;32m~/opt/anaconda3/envs/DS/lib/python3.8/site-packages/urllib3/connectionpool.py\u001b[0m in \u001b[0;36murlopen\u001b[0;34m(self, method, url, body, headers, retries, redirect, assert_same_host, timeout, pool_timeout, release_conn, chunked, body_pos, **response_kw)\u001b[0m\n\u001b[1;32m    668\u001b[0m \u001b[0;34m\u001b[0m\u001b[0m\n\u001b[1;32m    669\u001b[0m             \u001b[0;31m# Make the request on the httplib connection object.\u001b[0m\u001b[0;34m\u001b[0m\u001b[0;34m\u001b[0m\u001b[0;34m\u001b[0m\u001b[0m\n\u001b[0;32m--> 670\u001b[0;31m             httplib_response = self._make_request(\n\u001b[0m\u001b[1;32m    671\u001b[0m                 \u001b[0mconn\u001b[0m\u001b[0;34m,\u001b[0m\u001b[0;34m\u001b[0m\u001b[0;34m\u001b[0m\u001b[0m\n\u001b[1;32m    672\u001b[0m                 \u001b[0mmethod\u001b[0m\u001b[0;34m,\u001b[0m\u001b[0;34m\u001b[0m\u001b[0;34m\u001b[0m\u001b[0m\n",
      "\u001b[0;32m~/opt/anaconda3/envs/DS/lib/python3.8/site-packages/urllib3/connectionpool.py\u001b[0m in \u001b[0;36m_make_request\u001b[0;34m(self, conn, method, url, timeout, chunked, **httplib_request_kw)\u001b[0m\n\u001b[1;32m    379\u001b[0m         \u001b[0;31m# Trigger any extra validation we need to do.\u001b[0m\u001b[0;34m\u001b[0m\u001b[0;34m\u001b[0m\u001b[0;34m\u001b[0m\u001b[0m\n\u001b[1;32m    380\u001b[0m         \u001b[0;32mtry\u001b[0m\u001b[0;34m:\u001b[0m\u001b[0;34m\u001b[0m\u001b[0;34m\u001b[0m\u001b[0m\n\u001b[0;32m--> 381\u001b[0;31m             \u001b[0mself\u001b[0m\u001b[0;34m.\u001b[0m\u001b[0m_validate_conn\u001b[0m\u001b[0;34m(\u001b[0m\u001b[0mconn\u001b[0m\u001b[0;34m)\u001b[0m\u001b[0;34m\u001b[0m\u001b[0;34m\u001b[0m\u001b[0m\n\u001b[0m\u001b[1;32m    382\u001b[0m         \u001b[0;32mexcept\u001b[0m \u001b[0;34m(\u001b[0m\u001b[0mSocketTimeout\u001b[0m\u001b[0;34m,\u001b[0m \u001b[0mBaseSSLError\u001b[0m\u001b[0;34m)\u001b[0m \u001b[0;32mas\u001b[0m \u001b[0me\u001b[0m\u001b[0;34m:\u001b[0m\u001b[0;34m\u001b[0m\u001b[0;34m\u001b[0m\u001b[0m\n\u001b[1;32m    383\u001b[0m             \u001b[0;31m# Py2 raises this as a BaseSSLError, Py3 raises it as socket timeout.\u001b[0m\u001b[0;34m\u001b[0m\u001b[0;34m\u001b[0m\u001b[0;34m\u001b[0m\u001b[0m\n",
      "\u001b[0;32m~/opt/anaconda3/envs/DS/lib/python3.8/site-packages/urllib3/connectionpool.py\u001b[0m in \u001b[0;36m_validate_conn\u001b[0;34m(self, conn)\u001b[0m\n\u001b[1;32m    976\u001b[0m         \u001b[0;31m# Force connect early to allow us to validate the connection.\u001b[0m\u001b[0;34m\u001b[0m\u001b[0;34m\u001b[0m\u001b[0;34m\u001b[0m\u001b[0m\n\u001b[1;32m    977\u001b[0m         \u001b[0;32mif\u001b[0m \u001b[0;32mnot\u001b[0m \u001b[0mgetattr\u001b[0m\u001b[0;34m(\u001b[0m\u001b[0mconn\u001b[0m\u001b[0;34m,\u001b[0m \u001b[0;34m\"sock\"\u001b[0m\u001b[0;34m,\u001b[0m \u001b[0;32mNone\u001b[0m\u001b[0;34m)\u001b[0m\u001b[0;34m:\u001b[0m  \u001b[0;31m# AppEngine might not have  `.sock`\u001b[0m\u001b[0;34m\u001b[0m\u001b[0;34m\u001b[0m\u001b[0m\n\u001b[0;32m--> 978\u001b[0;31m             \u001b[0mconn\u001b[0m\u001b[0;34m.\u001b[0m\u001b[0mconnect\u001b[0m\u001b[0;34m(\u001b[0m\u001b[0;34m)\u001b[0m\u001b[0;34m\u001b[0m\u001b[0;34m\u001b[0m\u001b[0m\n\u001b[0m\u001b[1;32m    979\u001b[0m \u001b[0;34m\u001b[0m\u001b[0m\n\u001b[1;32m    980\u001b[0m         \u001b[0;32mif\u001b[0m \u001b[0;32mnot\u001b[0m \u001b[0mconn\u001b[0m\u001b[0;34m.\u001b[0m\u001b[0mis_verified\u001b[0m\u001b[0;34m:\u001b[0m\u001b[0;34m\u001b[0m\u001b[0;34m\u001b[0m\u001b[0m\n",
      "\u001b[0;32m~/opt/anaconda3/envs/DS/lib/python3.8/site-packages/urllib3/connection.py\u001b[0m in \u001b[0;36mconnect\u001b[0;34m(self)\u001b[0m\n\u001b[1;32m    360\u001b[0m             \u001b[0mcontext\u001b[0m\u001b[0;34m.\u001b[0m\u001b[0mload_default_certs\u001b[0m\u001b[0;34m(\u001b[0m\u001b[0;34m)\u001b[0m\u001b[0;34m\u001b[0m\u001b[0;34m\u001b[0m\u001b[0m\n\u001b[1;32m    361\u001b[0m \u001b[0;34m\u001b[0m\u001b[0m\n\u001b[0;32m--> 362\u001b[0;31m         self.sock = ssl_wrap_socket(\n\u001b[0m\u001b[1;32m    363\u001b[0m             \u001b[0msock\u001b[0m\u001b[0;34m=\u001b[0m\u001b[0mconn\u001b[0m\u001b[0;34m,\u001b[0m\u001b[0;34m\u001b[0m\u001b[0;34m\u001b[0m\u001b[0m\n\u001b[1;32m    364\u001b[0m             \u001b[0mkeyfile\u001b[0m\u001b[0;34m=\u001b[0m\u001b[0mself\u001b[0m\u001b[0;34m.\u001b[0m\u001b[0mkey_file\u001b[0m\u001b[0;34m,\u001b[0m\u001b[0;34m\u001b[0m\u001b[0;34m\u001b[0m\u001b[0m\n",
      "\u001b[0;32m~/opt/anaconda3/envs/DS/lib/python3.8/site-packages/urllib3/util/ssl_.py\u001b[0m in \u001b[0;36mssl_wrap_socket\u001b[0;34m(sock, keyfile, certfile, cert_reqs, ca_certs, server_hostname, ssl_version, ciphers, ssl_context, ca_cert_dir, key_password, ca_cert_data)\u001b[0m\n\u001b[1;32m    384\u001b[0m     ) or IS_SECURETRANSPORT:\n\u001b[1;32m    385\u001b[0m         \u001b[0;32mif\u001b[0m \u001b[0mHAS_SNI\u001b[0m \u001b[0;32mand\u001b[0m \u001b[0mserver_hostname\u001b[0m \u001b[0;32mis\u001b[0m \u001b[0;32mnot\u001b[0m \u001b[0;32mNone\u001b[0m\u001b[0;34m:\u001b[0m\u001b[0;34m\u001b[0m\u001b[0;34m\u001b[0m\u001b[0m\n\u001b[0;32m--> 386\u001b[0;31m             \u001b[0;32mreturn\u001b[0m \u001b[0mcontext\u001b[0m\u001b[0;34m.\u001b[0m\u001b[0mwrap_socket\u001b[0m\u001b[0;34m(\u001b[0m\u001b[0msock\u001b[0m\u001b[0;34m,\u001b[0m \u001b[0mserver_hostname\u001b[0m\u001b[0;34m=\u001b[0m\u001b[0mserver_hostname\u001b[0m\u001b[0;34m)\u001b[0m\u001b[0;34m\u001b[0m\u001b[0;34m\u001b[0m\u001b[0m\n\u001b[0m\u001b[1;32m    387\u001b[0m \u001b[0;34m\u001b[0m\u001b[0m\n\u001b[1;32m    388\u001b[0m         warnings.warn(\n",
      "\u001b[0;32m~/opt/anaconda3/envs/DS/lib/python3.8/ssl.py\u001b[0m in \u001b[0;36mwrap_socket\u001b[0;34m(self, sock, server_side, do_handshake_on_connect, suppress_ragged_eofs, server_hostname, session)\u001b[0m\n\u001b[1;32m    498\u001b[0m         \u001b[0;31m# SSLSocket class handles server_hostname encoding before it calls\u001b[0m\u001b[0;34m\u001b[0m\u001b[0;34m\u001b[0m\u001b[0;34m\u001b[0m\u001b[0m\n\u001b[1;32m    499\u001b[0m         \u001b[0;31m# ctx._wrap_socket()\u001b[0m\u001b[0;34m\u001b[0m\u001b[0;34m\u001b[0m\u001b[0;34m\u001b[0m\u001b[0m\n\u001b[0;32m--> 500\u001b[0;31m         return self.sslsocket_class._create(\n\u001b[0m\u001b[1;32m    501\u001b[0m             \u001b[0msock\u001b[0m\u001b[0;34m=\u001b[0m\u001b[0msock\u001b[0m\u001b[0;34m,\u001b[0m\u001b[0;34m\u001b[0m\u001b[0;34m\u001b[0m\u001b[0m\n\u001b[1;32m    502\u001b[0m             \u001b[0mserver_side\u001b[0m\u001b[0;34m=\u001b[0m\u001b[0mserver_side\u001b[0m\u001b[0;34m,\u001b[0m\u001b[0;34m\u001b[0m\u001b[0;34m\u001b[0m\u001b[0m\n",
      "\u001b[0;32m~/opt/anaconda3/envs/DS/lib/python3.8/ssl.py\u001b[0m in \u001b[0;36m_create\u001b[0;34m(cls, sock, server_side, do_handshake_on_connect, suppress_ragged_eofs, server_hostname, context, session)\u001b[0m\n\u001b[1;32m   1038\u001b[0m                         \u001b[0;31m# non-blocking\u001b[0m\u001b[0;34m\u001b[0m\u001b[0;34m\u001b[0m\u001b[0;34m\u001b[0m\u001b[0m\n\u001b[1;32m   1039\u001b[0m                         \u001b[0;32mraise\u001b[0m \u001b[0mValueError\u001b[0m\u001b[0;34m(\u001b[0m\u001b[0;34m\"do_handshake_on_connect should not be specified for non-blocking sockets\"\u001b[0m\u001b[0;34m)\u001b[0m\u001b[0;34m\u001b[0m\u001b[0;34m\u001b[0m\u001b[0m\n\u001b[0;32m-> 1040\u001b[0;31m                     \u001b[0mself\u001b[0m\u001b[0;34m.\u001b[0m\u001b[0mdo_handshake\u001b[0m\u001b[0;34m(\u001b[0m\u001b[0;34m)\u001b[0m\u001b[0;34m\u001b[0m\u001b[0;34m\u001b[0m\u001b[0m\n\u001b[0m\u001b[1;32m   1041\u001b[0m             \u001b[0;32mexcept\u001b[0m \u001b[0;34m(\u001b[0m\u001b[0mOSError\u001b[0m\u001b[0;34m,\u001b[0m \u001b[0mValueError\u001b[0m\u001b[0;34m)\u001b[0m\u001b[0;34m:\u001b[0m\u001b[0;34m\u001b[0m\u001b[0;34m\u001b[0m\u001b[0m\n\u001b[1;32m   1042\u001b[0m                 \u001b[0mself\u001b[0m\u001b[0;34m.\u001b[0m\u001b[0mclose\u001b[0m\u001b[0;34m(\u001b[0m\u001b[0;34m)\u001b[0m\u001b[0;34m\u001b[0m\u001b[0;34m\u001b[0m\u001b[0m\n",
      "\u001b[0;32m~/opt/anaconda3/envs/DS/lib/python3.8/ssl.py\u001b[0m in \u001b[0;36mdo_handshake\u001b[0;34m(self, block)\u001b[0m\n\u001b[1;32m   1307\u001b[0m             \u001b[0;32mif\u001b[0m \u001b[0mtimeout\u001b[0m \u001b[0;34m==\u001b[0m \u001b[0;36m0.0\u001b[0m \u001b[0;32mand\u001b[0m \u001b[0mblock\u001b[0m\u001b[0;34m:\u001b[0m\u001b[0;34m\u001b[0m\u001b[0;34m\u001b[0m\u001b[0m\n\u001b[1;32m   1308\u001b[0m                 \u001b[0mself\u001b[0m\u001b[0;34m.\u001b[0m\u001b[0msettimeout\u001b[0m\u001b[0;34m(\u001b[0m\u001b[0;32mNone\u001b[0m\u001b[0;34m)\u001b[0m\u001b[0;34m\u001b[0m\u001b[0;34m\u001b[0m\u001b[0m\n\u001b[0;32m-> 1309\u001b[0;31m             \u001b[0mself\u001b[0m\u001b[0;34m.\u001b[0m\u001b[0m_sslobj\u001b[0m\u001b[0;34m.\u001b[0m\u001b[0mdo_handshake\u001b[0m\u001b[0;34m(\u001b[0m\u001b[0;34m)\u001b[0m\u001b[0;34m\u001b[0m\u001b[0;34m\u001b[0m\u001b[0m\n\u001b[0m\u001b[1;32m   1310\u001b[0m         \u001b[0;32mfinally\u001b[0m\u001b[0;34m:\u001b[0m\u001b[0;34m\u001b[0m\u001b[0;34m\u001b[0m\u001b[0m\n\u001b[1;32m   1311\u001b[0m             \u001b[0mself\u001b[0m\u001b[0;34m.\u001b[0m\u001b[0msettimeout\u001b[0m\u001b[0;34m(\u001b[0m\u001b[0mtimeout\u001b[0m\u001b[0;34m)\u001b[0m\u001b[0;34m\u001b[0m\u001b[0;34m\u001b[0m\u001b[0m\n",
      "\u001b[0;31mKeyboardInterrupt\u001b[0m: "
     ]
    }
   ],
   "source": [
    "def get_price(stock_id='0050.TW'):\n",
    "    url = f\"https://tw.stock.yahoo.com/d/s/dividend_{stock_id.split('.')[0]}.html\"\n",
    "    page = requests.get(url)\n",
    "    soup = BeautifulSoup(page.content, 'html.parser')\n",
    "    price = soup.find('span', {'class': 'Fz(32px) Fw(b) Lh(1) Mend(16px) D(f) Ai(c) C($c-trend-down)'}).text\n",
    "    return price\n",
    "\n",
    "while True: \n",
    "    print(f'({datetime.now()}) 成交價格為：{str(get_price())}')"
   ]
  },
  {
   "cell_type": "markdown",
   "metadata": {},
   "source": [
    "### 股利政策\n",
    "\n",
    "大家上數學的時候應該常常會聽到利息（或是單複利）的題目對吧？得知股利也是大家看股票時很重要的依據。我們在看股利時，無非是希望倘若今天股票沒有大漲，是否仍會比把錢全部投入在銀行中來得好。\n",
    "\n",
    "為了增加大家實作經驗，這次我們來爬取另一個網站。有下列兩種方式供各位參考：\n",
    "\n",
    "第一種方法是利用上面所得到的股票價格，我們把今年預計發放的股利除以該價格就是我們預期會得到的利息。\n",
    "\n",
    "以下註解掉的地方為 2021/3 所撰寫。"
   ]
  },
  {
   "cell_type": "code",
   "execution_count": 39,
   "metadata": {},
   "outputs": [],
   "source": [
    "url = \"https://tw.stock.yahoo.com/d/s/dividend_0050.html\"\n",
    "page = requests.get(url)\n",
    "soup = BeautifulSoup(page.content, 'html.parser')"
   ]
  },
  {
   "cell_type": "code",
   "execution_count": 44,
   "metadata": {},
   "outputs": [],
   "source": [
    "# div_table = soup.find_all('table')[1].find_all('table')[1]\n",
    "# div_table\n",
    "div_table = soup.find_all(\n",
    "        'div', {'class': 'table-body-wrapper'})[0].find('ul')\n",
    "div_table"
   ]
  },
  {
   "cell_type": "code",
   "execution_count": 46,
   "metadata": {},
   "outputs": [],
   "source": [
    "# all_years_raw = div_table.find_all('tr')[1:]\n",
    "# all_years_raw\n",
    "\n",
    "all_years_raw = div_table.find_all('li')"
   ]
  },
  {
   "cell_type": "code",
   "execution_count": 52,
   "metadata": {},
   "outputs": [
    {
     "name": "stdout",
     "output_type": "stream",
     "text": [
      "2021\n"
     ]
    }
   ],
   "source": [
    "# first_date = (all_years_raw[0].find_all('td')[1].text)\n",
    "# first_year = first_date.split('-')[0]\n",
    "# print(first_year)\n",
    "# first_year = '2020'\n",
    "first_date = all_years_raw[0].find_all('div')[6].text\n",
    "first_year = first_date.split('/')[0]\n",
    "print(first_year)"
   ]
  },
  {
   "cell_type": "markdown",
   "metadata": {},
   "source": [
    "接下來，我們要確認一下是否有 cover 到所有該年份的資料，所以要跑一次 for 迴圈。"
   ]
  },
  {
   "cell_type": "code",
   "execution_count": 54,
   "metadata": {},
   "outputs": [
    {
     "name": "stdout",
     "output_type": "stream",
     "text": [
      "3.05\n"
     ]
    }
   ],
   "source": [
    "total_div = 0\n",
    "for year_raw in all_years_raw:\n",
    "#     if year_raw.find_all('td')[1].text.split('-')[0] == first_year:\n",
    "# #         print(year_raw.find_all('td')[-1].text)\n",
    "#         total_div += float(year_raw.find_all('td')[-1].text)\n",
    "    year = year_raw.find_all('div')[6].text.split('/')[0]\n",
    "    if year == first_year:\n",
    "        total_div += float(year_raw.find_all('div')[3].text)\n",
    "\n",
    "print(total_div)"
   ]
  },
  {
   "cell_type": "code",
   "execution_count": 55,
   "metadata": {},
   "outputs": [
    {
     "name": "stdout",
     "output_type": "stream",
     "text": [
      "2.1879483500717356%\n"
     ]
    }
   ],
   "source": [
    "div_yield = total_div / float(get_price('0050.TW'))\n",
    "print(f'{div_yield * 100}%')"
   ]
  },
  {
   "cell_type": "markdown",
   "metadata": {},
   "source": [
    "我們也再一次地將上述的程式寫成一個函式："
   ]
  },
  {
   "cell_type": "code",
   "execution_count": 17,
   "metadata": {},
   "outputs": [
    {
     "name": "stdout",
     "output_type": "stream",
     "text": [
      "2020 年的殖利率：2.51924422673198%\n"
     ]
    }
   ],
   "source": [
    "def get_dividend_yield(stock_id='0050.TW', year=None):\n",
    "    url = f\"https://tw.stock.yahoo.com/d/s/dividend_{stock_id.split('.')[0]}.html\"\n",
    "    page = requests.get(url)\n",
    "    soup = BeautifulSoup(page.content, 'html.parser')\n",
    "    div_table = soup.find_all(\n",
    "        'div', {'class': 'table-body-wrapper'})[0].find('ul')\n",
    "\n",
    "    all_years_raw = div_table.find_all('li')\n",
    "    first_date = all_years_raw[0].find_all('div')[6].text\n",
    "    if year == None:\n",
    "        first_year = first_date.split('/')[0]\n",
    "    else:\n",
    "        first_year = str(year)\n",
    "\n",
    "    # 開始進行加總\n",
    "    total_div = 0\n",
    "    for year_raw in all_years_raw:\n",
    "        tmp_year = year_raw.find_all('div')[6].text.split('/')[0]\n",
    "        if tmp_year == first_year:\n",
    "            total_div += float(year_raw.find_all('div')[3].text)\n",
    "\n",
    "    # 利用剛剛的函式幫我們取得現價\n",
    "    div_yield = total_div / float(get_price(stock_id))\n",
    "    return first_year, div_yield, total_div\n",
    "\n",
    "year, div_yield, total_div = get_dividend_yield(stock_id='0050.TW', year=2020)\n",
    "print(f'{year} 年的殖利率：{div_yield * 100}%')"
   ]
  },
  {
   "cell_type": "markdown",
   "metadata": {},
   "source": [
    "這麼一來我們便可以知道，目前我們的殖利率為 2%，比銀行好一些。\n",
    "\n",
    "另一種取得殖利率的方式，我們在這裡就不仔細講，因為牽扯到比較深的技術。所以請同學自己回家時可以玩看看。\n",
    "\n",
    "簡單來說，有些網站為了防止機器人來抓取，會禁止相關爬蟲活動。所以必須透過「headers」來模擬我們瀏覽視窗的行為。同學可以把 headers 刪除掉看看會發生什麼事情。\n",
    "\n",
    "透過以下網站，我們可以得到 **年均殖利率(%)**，這會比剛剛那樣算還要精準一點。就請同學利用剛剛所教的方式自行把玩。"
   ]
  },
  {
   "cell_type": "code",
   "execution_count": 60,
   "metadata": {},
   "outputs": [],
   "source": [
    "url = \"https://goodinfo.tw/StockInfo/StockDividendPolicy.asp?STOCK_ID=0050\"\n",
    "\n",
    "headers = ({'User-Agent':\n",
    "            'Mozilla/5.0 (X11; Linux x86_64) AppleWebKit/537.36 (KHTML, like Gecko) Chrome/44.0.2403.157 Safari/537.36',\n",
    "            'Accept-Language': 'en-US, en;q=0.5'})\n",
    "\n",
    "page = requests.get(url, headers=headers)\n",
    "soup = BeautifulSoup(page.content, 'html.parser')"
   ]
  }
 ],
 "metadata": {
  "interpreter": {
   "hash": "28caf148f76127a42e33148cd18d56973c8a7d4d28a598147115da3266e22f30"
  },
  "kernelspec": {
   "display_name": "Simple_Stock_Analyzer",
   "language": "python",
   "name": "python3"
  },
  "language_info": {
   "codemirror_mode": {
    "name": "ipython",
    "version": 3
   },
   "file_extension": ".py",
   "mimetype": "text/x-python",
   "name": "python",
   "nbconvert_exporter": "python",
   "pygments_lexer": "ipython3",
   "version": "3.8.5"
  }
 },
 "nbformat": 4,
 "nbformat_minor": 4
}
