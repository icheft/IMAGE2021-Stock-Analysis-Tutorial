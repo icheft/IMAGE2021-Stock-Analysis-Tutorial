{
 "cells": [
  {
   "cell_type": "markdown",
   "metadata": {},
   "source": [
    "<center>\n",
    "    <h1>進階 Python</h1>\n",
    "    <h3>用 Python 簡單打造一個屬於自己的投資分析 App</h3>\n",
    "    <h3>Part I - Python 爬蟲</h3>\n",
    "</center>\n"
   ]
  },
  {
   "cell_type": "markdown",
   "metadata": {},
   "source": [
    "<h2>目錄</h2>\n",
    "<div class=\"alert alert-block alert-info\" style=\"margin-top: 20px\">\n",
    "    <ul>\n",
    "        <li>\n",
    "            Beautiful Soup 套件\n",
    "            <ul>\n",
    "                <li>Tag</li>\n",
    "                <li>Children, Parents, and Siblings</li>\n",
    "                <li>HTML Attributes</li>\n",
    "                <li>Navigable String</li>\n",
    "            </ul>\n",
    "        </li>\n",
    "     </ul>\n",
    "    <ul>\n",
    "        <li>\n",
    "            Filter\n",
    "            <ul>\n",
    "                <li>find All</li>\n",
    "                <li>find </li>\n",
    "                <li>HTML Attributes</li>\n",
    "                <li>Navigable String</li>\n",
    "            </ul>\n",
    "        </li>\n",
    "     </ul>\n",
    "     <ul>\n",
    "        <li>\n",
    "        實作\n",
    "        <ul>\n",
    "        <li>股票現價爬取</li>\n",
    "        <li>股票股利政策爬取</li>\n",
    "    </li>\n",
    "         </ul>\n",
    "    \n",
    "</div>\n",
    "\n",
    "<hr>\n"
   ]
  },
  {
   "cell_type": "code",
   "execution_count": null,
   "metadata": {},
   "outputs": [],
   "source": [
    "%pip install bs4"
   ]
  },
  {
   "cell_type": "code",
   "execution_count": 10,
   "metadata": {},
   "outputs": [],
   "source": [
    "from bs4 import BeautifulSoup\n",
    "import time\n",
    "from datetime import datetime\n",
    "import requests # 實作時會用到"
   ]
  },
  {
   "cell_type": "code",
   "execution_count": 31,
   "metadata": {},
   "outputs": [
    {
     "data": {
      "text/html": [
       "<!DOCTYPE html>\n",
       "<html>\n",
       "<head>\n",
       "<title>NBA 球員薪水</title>\n",
       "</head>\n",
       "<body>\n",
       "<h3><b id='highest'>Lebron James</b></h3>\n",
       "<p> Salary: $ 92,000,000 </p>\n",
       "<h3> Stephen Curry</h3>\n",
       "<p> Salary: $85,000,000 </p>\n",
       "<h3> Kevin Durant </h3>\n",
       "<p> Salary: $73,200,000</p>\n",
       "</body>\n",
       "</html>\n"
      ],
      "text/plain": [
       "<IPython.core.display.HTML object>"
      ]
     },
     "metadata": {},
     "output_type": "display_data"
    }
   ],
   "source": [
    "%%html\n",
    "<!DOCTYPE html>\n",
    "<html>\n",
    "<head>\n",
    "<title>NBA 球員薪水</title>\n",
    "</head>\n",
    "<body>\n",
    "<h3><b id='highest'>Lebron James</b></h3>\n",
    "<p> Salary: $ 92,000,000 </p>\n",
    "<h3> Stephen Curry</h3>\n",
    "<p> Salary: $85,000,000 </p>\n",
    "<h3> Kevin Durant </h3>\n",
    "<p> Salary: $73,200,000</p>\n",
    "</body>\n",
    "</html>"
   ]
  },
  {
   "cell_type": "code",
   "execution_count": 30,
   "metadata": {},
   "outputs": [],
   "source": [
    "html=\"<!DOCTYPE html><html><head><title>NBA 球員薪水</title></head><body><h3><b id='highest'>Lebron James</b></h3><p> Salary: $ 92,000,000 </p><h3> Stephen Curry</h3><p> Salary: $85,000,000 </p><h3> Kevin Durant </h3><p> Salary: $73,200,000</p></body></html>\""
   ]
  },
  {
   "cell_type": "code",
   "execution_count": 11,
   "metadata": {},
   "outputs": [],
   "source": [
    "soup = BeautifulSoup(html, 'html5lib')"
   ]
  },
  {
   "cell_type": "code",
   "execution_count": 12,
   "metadata": {},
   "outputs": [
    {
     "name": "stdout",
     "output_type": "stream",
     "text": [
      "<!DOCTYPE html>\n",
      "<html>\n",
      " <head>\n",
      "  <title>\n",
      "   NBA 球員薪水\n",
      "  </title>\n",
      " </head>\n",
      " <body>\n",
      "  <h3>\n",
      "   <b id=\"highest\">\n",
      "    Lebron James\n",
      "   </b>\n",
      "  </h3>\n",
      "  <p>\n",
      "   Salary: $ 92,000,000\n",
      "  </p>\n",
      "  <h3>\n",
      "   Stephen Curry\n",
      "  </h3>\n",
      "  <p>\n",
      "   Salary: $85,000, 000\n",
      "  </p>\n",
      "  <h3>\n",
      "   Kevin Durant\n",
      "  </h3>\n",
      "  <p>\n",
      "   Salary: $73,200, 000\n",
      "  </p>\n",
      " </body>\n",
      "</html>\n"
     ]
    }
   ],
   "source": [
    "print(soup.prettify())"
   ]
  },
  {
   "cell_type": "markdown",
   "metadata": {},
   "source": [
    "### Tag\n",
    "\n",
    "`title`, `h1`, `p` 都屬於一種 Tag。"
   ]
  },
  {
   "cell_type": "code",
   "execution_count": 14,
   "metadata": {},
   "outputs": [
    {
     "name": "stdout",
     "output_type": "stream",
     "text": [
      "tag object: <title>NBA 球員薪水</title>\n",
      "tag object type: <class 'bs4.element.Tag'>\n"
     ]
    }
   ],
   "source": [
    "tag_object = soup.title\n",
    "print(\"tag object:\",tag_object)\n",
    "print(\"tag object type:\",type(tag_object))"
   ]
  },
  {
   "cell_type": "markdown",
   "metadata": {},
   "source": [
    "如果有大於一個 tag 的話，則會找第一個擁有該名字的 element。"
   ]
  },
  {
   "cell_type": "code",
   "execution_count": 15,
   "metadata": {},
   "outputs": [
    {
     "data": {
      "text/plain": [
       "<h3><b id=\"highest\">Lebron James</b></h3>"
      ]
     },
     "execution_count": 15,
     "metadata": {},
     "output_type": "execute_result"
    }
   ],
   "source": [
    "tag_object=soup.h3\n",
    "tag_object"
   ]
  },
  {
   "cell_type": "markdown",
   "metadata": {},
   "source": [
    "### Children, Parents, and Siblings"
   ]
  },
  {
   "cell_type": "code",
   "execution_count": 17,
   "metadata": {},
   "outputs": [
    {
     "name": "stdout",
     "output_type": "stream",
     "text": [
      "<b id=\"highest\">Lebron James</b>\n",
      "<h3><b id=\"highest\">Lebron James</b></h3>\n",
      "<p> Salary: $ 92,000,000 </p>\n"
     ]
    }
   ],
   "source": [
    "tag_child =tag_object.b\n",
    "print(tag_child)\n",
    "\n",
    "parent_tag=tag_child.parent\n",
    "print(parent_tag)\n",
    "\n",
    "sibling_1=tag_object.next_sibling\n",
    "print(sibling_1)"
   ]
  },
  {
   "cell_type": "markdown",
   "metadata": {},
   "source": [
    "### 小練習\n",
    "\n",
    "用 `next_sibling` 尋找一下 Stephen Curry 的薪水吧。"
   ]
  },
  {
   "cell_type": "code",
   "execution_count": 18,
   "metadata": {},
   "outputs": [
    {
     "data": {
      "text/plain": [
       "<h3> Stephen Curry</h3>"
      ]
     },
     "execution_count": 18,
     "metadata": {},
     "output_type": "execute_result"
    }
   ],
   "source": [
    "sibling_2=sibling_1.next_sibling\n",
    "sibling_2"
   ]
  },
  {
   "cell_type": "markdown",
   "metadata": {},
   "source": [
    "### HTML Attributes\n",
    "\n",
    "`id`, `class` 都算！"
   ]
  },
  {
   "cell_type": "code",
   "execution_count": 19,
   "metadata": {},
   "outputs": [
    {
     "data": {
      "text/plain": [
       "'highest'"
      ]
     },
     "execution_count": 19,
     "metadata": {},
     "output_type": "execute_result"
    }
   ],
   "source": [
    "tag_child['id']\n",
    "\n",
    "# 跟\n",
    "\n",
    "tag_child.get('id')\n",
    "\n",
    "# 是一樣的"
   ]
  },
  {
   "cell_type": "code",
   "execution_count": 20,
   "metadata": {},
   "outputs": [
    {
     "data": {
      "text/plain": [
       "{'id': 'highest'}"
      ]
     },
     "execution_count": 20,
     "metadata": {},
     "output_type": "execute_result"
    }
   ],
   "source": [
    "tag_child.attrs"
   ]
  },
  {
   "cell_type": "markdown",
   "metadata": {},
   "source": [
    "### Navigable String\n",
    "\n",
    "Beautiful Soup 特有的型別，就像 `\"blah blah blah\"` 是個字串，在 Beautiful Soup 裡面的字串我們稱為 Navigable String。"
   ]
  },
  {
   "cell_type": "code",
   "execution_count": 23,
   "metadata": {},
   "outputs": [
    {
     "name": "stdout",
     "output_type": "stream",
     "text": [
      "Lebron James\n",
      "Lebron James\n"
     ]
    }
   ],
   "source": [
    "tag_string=tag_child.string\n",
    "print(tag_string)\n",
    "\n",
    "standard_string = str(tag_string)\n",
    "print(standard_string)"
   ]
  },
  {
   "cell_type": "markdown",
   "metadata": {},
   "source": [
    "## Filter"
   ]
  },
  {
   "cell_type": "code",
   "execution_count": 44,
   "metadata": {},
   "outputs": [
    {
     "data": {
      "text/html": [
       "<table>\n",
       "  <tr>\n",
       "    <td id='player' >Player No</td>\n",
       "    <td>Team</td> \n",
       "    <td>Salary</td>\n",
       "   </tr>\n",
       "  <tr class='lebron'> \n",
       "    <td>23</td>\n",
       "    <td><a href='https://www.nba.com/player/2544/lebron_james'>LeBron James</a></td>\n",
       "    <td>$ 92,000,000</td>\n",
       "  </tr>\n",
       "  <tr>\n",
       "    <td>30</td>\n",
       "    <td><a href='https://www.nba.com/player/201939/stephen-curry'>Stephen Curry</a></td>\n",
       "    <td>$85,000,000</td>\n",
       "  </tr>\n",
       "  <tr>\n",
       "    <td>7</td>\n",
       "    <td><a href='https://www.nba.com/player/201142/kevin-durant'>Kevin Durrant<a> </td>\n",
       "    <td>$73,200,000</td>\n",
       "  </tr>\n",
       "</table>\n"
      ],
      "text/plain": [
       "<IPython.core.display.HTML object>"
      ]
     },
     "metadata": {},
     "output_type": "display_data"
    }
   ],
   "source": [
    "%%html\n",
    "<table>\n",
    "  <tr>\n",
    "    <td id='player' >Player No</td>\n",
    "    <td>Team</td> \n",
    "    <td>Salary</td>\n",
    "   </tr>\n",
    "  <tr class='lebron'> \n",
    "    <td>23</td>\n",
    "    <td><a href='https://www.nba.com/player/2544/lebron_james'>LeBron James</a></td>\n",
    "    <td>$ 92,000,000</td>\n",
    "  </tr>\n",
    "  <tr>\n",
    "    <td>30</td>\n",
    "    <td><a href='https://www.nba.com/player/201939/stephen-curry'>Stephen Curry</a></td>\n",
    "    <td>$85,000,000</td>\n",
    "  </tr>\n",
    "  <tr>\n",
    "    <td>7</td>\n",
    "    <td><a href='https://www.nba.com/player/201142/kevin-durant'>Kevin Durrant<a> </td>\n",
    "    <td>$73,200,000</td>\n",
    "  </tr>\n",
    "</table>"
   ]
  },
  {
   "cell_type": "code",
   "execution_count": 47,
   "metadata": {},
   "outputs": [],
   "source": [
    "table=\"\"\"%%html\n",
    "<table>\n",
    "  <tr>\n",
    "    <td id='player' >Player No</td>\n",
    "    <td>Team</td> \n",
    "    <td>Salary</td>\n",
    "   </tr>\n",
    "  <tr class='lebron'> \n",
    "    <td>23</td>\n",
    "    <td><a href='https://www.nba.com/player/2544/lebron_james'>LeBron James</a></td>\n",
    "    <td>$ 92,000,000</td>\n",
    "  </tr>\n",
    "  <tr>\n",
    "    <td>30</td>\n",
    "    <td><a href='https://www.nba.com/player/201939/stephen-curry'>Stephen Curry</a></td>\n",
    "    <td>$85,000,000</td>\n",
    "  </tr>\n",
    "  <tr>\n",
    "    <td>7</td>\n",
    "    <td><a href='https://www.nba.com/player/201142/kevin-durant'>Kevin Durrant<a> </td>\n",
    "    <td>$73,200,000</td>\n",
    "  </tr>\n",
    "</table>\n",
    "\"\"\""
   ]
  },
  {
   "cell_type": "code",
   "execution_count": 48,
   "metadata": {},
   "outputs": [],
   "source": [
    "table_bs = BeautifulSoup(table, 'html5lib')"
   ]
  },
  {
   "cell_type": "markdown",
   "metadata": {},
   "source": [
    "### find all"
   ]
  },
  {
   "cell_type": "code",
   "execution_count": 49,
   "metadata": {},
   "outputs": [
    {
     "data": {
      "text/plain": [
       "[<tr>\n",
       "     <td id=\"player\">Player No</td>\n",
       "     <td>Team</td> \n",
       "     <td>Salary</td>\n",
       "    </tr>,\n",
       " <tr class=\"lebron\"> \n",
       "     <td>23</td>\n",
       "     <td><a href=\"https://www.nba.com/player/2544/lebron_james\">LeBron James</a></td>\n",
       "     <td>$ 92,000,000</td>\n",
       "   </tr>,\n",
       " <tr>\n",
       "     <td>30</td>\n",
       "     <td><a href=\"https://www.nba.com/player/201939/stephen-curry\">Stephen Curry</a></td>\n",
       "     <td>$85,000,000</td>\n",
       "   </tr>,\n",
       " <tr>\n",
       "     <td>7</td>\n",
       "     <td><a href=\"https://www.nba.com/player/201142/kevin-durant\">Kevin Durrant</a><a> </a></td>\n",
       "     <td>$73,200,000</td>\n",
       "   </tr>]"
      ]
     },
     "execution_count": 49,
     "metadata": {},
     "output_type": "execute_result"
    }
   ],
   "source": [
    "# tag\n",
    "table_rows=table_bs.find_all('tr')\n",
    "table_rows"
   ]
  },
  {
   "cell_type": "code",
   "execution_count": 50,
   "metadata": {},
   "outputs": [
    {
     "data": {
      "text/plain": [
       "<tr>\n",
       "    <td id=\"player\">Player No</td>\n",
       "    <td>Team</td> \n",
       "    <td>Salary</td>\n",
       "   </tr>"
      ]
     },
     "execution_count": 50,
     "metadata": {},
     "output_type": "execute_result"
    }
   ],
   "source": [
    "first_row =table_rows[0]\n",
    "first_row"
   ]
  },
  {
   "cell_type": "code",
   "execution_count": 51,
   "metadata": {},
   "outputs": [
    {
     "name": "stdout",
     "output_type": "stream",
     "text": [
      "row 0 is <tr>\n",
      "    <td id=\"player\">Player No</td>\n",
      "    <td>Team</td> \n",
      "    <td>Salary</td>\n",
      "   </tr>\n",
      "row 1 is <tr class=\"lebron\"> \n",
      "    <td>23</td>\n",
      "    <td><a href=\"https://www.nba.com/player/2544/lebron_james\">LeBron James</a></td>\n",
      "    <td>$ 92,000,000</td>\n",
      "  </tr>\n",
      "row 2 is <tr>\n",
      "    <td>30</td>\n",
      "    <td><a href=\"https://www.nba.com/player/201939/stephen-curry\">Stephen Curry</a></td>\n",
      "    <td>$85,000,000</td>\n",
      "  </tr>\n",
      "row 3 is <tr>\n",
      "    <td>7</td>\n",
      "    <td><a href=\"https://www.nba.com/player/201142/kevin-durant\">Kevin Durrant</a><a> </a></td>\n",
      "    <td>$73,200,000</td>\n",
      "  </tr>\n"
     ]
    }
   ],
   "source": [
    "for i,row in enumerate(table_rows):\n",
    "    print(\"row\",i,\"is\",row)\n",
    "    "
   ]
  },
  {
   "cell_type": "code",
   "execution_count": 52,
   "metadata": {},
   "outputs": [
    {
     "name": "stdout",
     "output_type": "stream",
     "text": [
      "row 0\n",
      "colunm 0 cell <td id=\"player\">Player No</td>\n",
      "colunm 1 cell <td>Team</td>\n",
      "colunm 2 cell <td>Salary</td>\n",
      "row 1\n",
      "colunm 0 cell <td>23</td>\n",
      "colunm 1 cell <td><a href=\"https://www.nba.com/player/2544/lebron_james\">LeBron James</a></td>\n",
      "colunm 2 cell <td>$ 92,000,000</td>\n",
      "row 2\n",
      "colunm 0 cell <td>30</td>\n",
      "colunm 1 cell <td><a href=\"https://www.nba.com/player/201939/stephen-curry\">Stephen Curry</a></td>\n",
      "colunm 2 cell <td>$85,000,000</td>\n",
      "row 3\n",
      "colunm 0 cell <td>7</td>\n",
      "colunm 1 cell <td><a href=\"https://www.nba.com/player/201142/kevin-durant\">Kevin Durrant</a><a> </a></td>\n",
      "colunm 2 cell <td>$73,200,000</td>\n"
     ]
    }
   ],
   "source": [
    "for i,row in enumerate(table_rows):\n",
    "    print(\"row\",i)\n",
    "    cells=row.find_all('td')\n",
    "    for j,cell in enumerate(cells):\n",
    "        print('colunm',j,\"cell\",cell)"
   ]
  },
  {
   "cell_type": "code",
   "execution_count": 53,
   "metadata": {},
   "outputs": [
    {
     "data": {
      "text/plain": [
       "[<tr>\n",
       "     <td id=\"player\">Player No</td>\n",
       "     <td>Team</td> \n",
       "     <td>Salary</td>\n",
       "    </tr>,\n",
       " <td id=\"player\">Player No</td>,\n",
       " <td>Team</td>,\n",
       " <td>Salary</td>,\n",
       " <tr class=\"lebron\"> \n",
       "     <td>23</td>\n",
       "     <td><a href=\"https://www.nba.com/player/2544/lebron_james\">LeBron James</a></td>\n",
       "     <td>$ 92,000,000</td>\n",
       "   </tr>,\n",
       " <td>23</td>,\n",
       " <td><a href=\"https://www.nba.com/player/2544/lebron_james\">LeBron James</a></td>,\n",
       " <td>$ 92,000,000</td>,\n",
       " <tr>\n",
       "     <td>30</td>\n",
       "     <td><a href=\"https://www.nba.com/player/201939/stephen-curry\">Stephen Curry</a></td>\n",
       "     <td>$85,000,000</td>\n",
       "   </tr>,\n",
       " <td>30</td>,\n",
       " <td><a href=\"https://www.nba.com/player/201939/stephen-curry\">Stephen Curry</a></td>,\n",
       " <td>$85,000,000</td>,\n",
       " <tr>\n",
       "     <td>7</td>\n",
       "     <td><a href=\"https://www.nba.com/player/201142/kevin-durant\">Kevin Durrant</a><a> </a></td>\n",
       "     <td>$73,200,000</td>\n",
       "   </tr>,\n",
       " <td>7</td>,\n",
       " <td><a href=\"https://www.nba.com/player/201142/kevin-durant\">Kevin Durrant</a><a> </a></td>,\n",
       " <td>$73,200,000</td>]"
      ]
     },
     "execution_count": 53,
     "metadata": {},
     "output_type": "execute_result"
    }
   ],
   "source": [
    "list_input=table_bs.find_all(name=[\"tr\", \"td\"])\n",
    "list_input"
   ]
  },
  {
   "cell_type": "markdown",
   "metadata": {},
   "source": [
    "### Attributes"
   ]
  },
  {
   "cell_type": "code",
   "execution_count": 54,
   "metadata": {},
   "outputs": [
    {
     "data": {
      "text/plain": [
       "[<td id=\"player\">Player No</td>]"
      ]
     },
     "execution_count": 54,
     "metadata": {},
     "output_type": "execute_result"
    }
   ],
   "source": [
    "table_bs.find_all(id=\"player\")"
   ]
  },
  {
   "cell_type": "code",
   "execution_count": 55,
   "metadata": {},
   "outputs": [
    {
     "data": {
      "text/plain": [
       "[<a href=\"https://www.nba.com/player/2544/lebron_james\">LeBron James</a>]"
      ]
     },
     "execution_count": 55,
     "metadata": {},
     "output_type": "execute_result"
    }
   ],
   "source": [
    "list_input=table_bs.find_all(href=\"https://www.nba.com/player/2544/lebron_james\")\n",
    "list_input"
   ]
  },
  {
   "cell_type": "code",
   "execution_count": 56,
   "metadata": {},
   "outputs": [
    {
     "data": {
      "text/plain": [
       "['LeBron James']"
      ]
     },
     "execution_count": 56,
     "metadata": {},
     "output_type": "execute_result"
    }
   ],
   "source": [
    "table_bs.find_all(href=True)  # 管他是什麼 href\n",
    "table_bs.find_all(string=\"LeBron James\")"
   ]
  },
  {
   "cell_type": "markdown",
   "metadata": {},
   "source": [
    "### find"
   ]
  },
  {
   "cell_type": "code",
   "execution_count": 57,
   "metadata": {},
   "outputs": [
    {
     "data": {
      "text/plain": [
       "<table>\n",
       "  <tbody><tr>\n",
       "    <td id=\"player\">Player No</td>\n",
       "    <td>Team</td> \n",
       "    <td>Salary</td>\n",
       "   </tr>\n",
       "  <tr class=\"lebron\"> \n",
       "    <td>23</td>\n",
       "    <td><a href=\"https://www.nba.com/player/2544/lebron_james\">LeBron James</a></td>\n",
       "    <td>$ 92,000,000</td>\n",
       "  </tr>\n",
       "  <tr>\n",
       "    <td>30</td>\n",
       "    <td><a href=\"https://www.nba.com/player/201939/stephen-curry\">Stephen Curry</a></td>\n",
       "    <td>$85,000,000</td>\n",
       "  </tr>\n",
       "  <tr>\n",
       "    <td>7</td>\n",
       "    <td><a href=\"https://www.nba.com/player/201142/kevin-durant\">Kevin Durrant</a><a> </a></td>\n",
       "    <td>$73,200,000</td>\n",
       "  </tr>\n",
       "</tbody></table>"
      ]
     },
     "execution_count": 57,
     "metadata": {},
     "output_type": "execute_result"
    }
   ],
   "source": [
    "table_bs.find(\"table\")"
   ]
  },
  {
   "cell_type": "code",
   "execution_count": 59,
   "metadata": {},
   "outputs": [
    {
     "data": {
      "text/plain": [
       "<tr class=\"lebron\"> \n",
       "    <td>23</td>\n",
       "    <td><a href=\"https://www.nba.com/player/2544/lebron_james\">LeBron James</a></td>\n",
       "    <td>$ 92,000,000</td>\n",
       "  </tr>"
      ]
     },
     "execution_count": 59,
     "metadata": {},
     "output_type": "execute_result"
    }
   ],
   "source": [
    "table_bs.find(\"tr\",class_='lebron')"
   ]
  },
  {
   "cell_type": "markdown",
   "metadata": {},
   "source": [
    "## 從網路上爬資料！\n",
    "\n",
    "我們直接以股市資料為例。本次我們預計會利用爬蟲技巧，抓取兩（三）項資訊：\n",
    "\n",
    "1. 目前的實價\n",
    "2. 該股票最近一次發放的股票利息（或稱為股利）\n",
    "3. （非硬性）銀行業者的利息政策\n",
    "\n",
    "如果同學還不是很懂股票的操作沒關係。雖然不是本堂課的重點，但我還是稍微介紹一下。\n",
    "\n",
    "股票，如果父母有在玩的話，你們應該多少會聽過「台積電」、「0050」等名詞。近幾年股票重新在台灣掀起一股風潮，連學生也利用自己的小小資金在玩股票。\n",
    "\n",
    "### 股市價錢\n",
    "\n",
    "我們抓股票的價錢，無非是希望能夠看到要用「多少錢」才能夠買「一股」股票。如果你們常常聽到有人說「我買了一『張』台積電」，其實代表的是他買了「一千股」的意思。我們利用等下會的成果來參考一下目前台積點的股市價格：\n",
    "\n"
   ]
  },
  {
   "cell_type": "code",
   "execution_count": 16,
   "metadata": {},
   "outputs": [
    {
     "output_type": "stream",
     "name": "stdout",
     "text": [
      "(2021-05-07 15:21:36.815750) 成交價格為: 599.00\n"
     ]
    }
   ],
   "source": [
    "def get_price(stock_id='0050.TW'):\n",
    "    url = f'https://finance.yahoo.com/quote/{stock_id}?p={stock_id}&.tsrc=fin-srch'\n",
    "    page = urlopen(url)\n",
    "    soup = BeautifulSoup(page, 'html.parser')\n",
    "    price = soup.find('div',{'class': 'My(6px) Pos(r) smartphone_Mt(6px)'}).find('span').text\n",
    "    return price\n",
    "\n",
    "print(f'({datetime.now()}) 成交價格為: {str(get_price(\"2330.TW\"))}')"
   ]
  },
  {
   "source": [
    "這麼一來，我們甚至不用開啟瀏覽器就可以查到資料了！是不是很方便呢？如果這時候你手上有閒錢，想要買一下台積電，也可以用剛剛所取得的價格進行更多運算。"
   ],
   "cell_type": "markdown",
   "metadata": {}
  },
  {
   "cell_type": "code",
   "execution_count": 4,
   "metadata": {},
   "outputs": [],
   "source": [
    "# https://tw.stock.yahoo.com/q/bc?s=0050\n",
    "\n",
    "url = 'https://finance.yahoo.com/quote/0050.TW?p=0050.TW&.tsrc=fin-srch'\n",
    "page = requests.get(url)\n",
    "\n",
    "soup = BeautifulSoup(page.content, 'html.parser')"
   ]
  },
  {
   "cell_type": "code",
   "execution_count": 5,
   "metadata": {},
   "outputs": [],
   "source": [
    "data  = requests.get(url).text # or content\n",
    "soup = BeautifulSoup(data, \"html.parser\")  # create a soup object using the variable 'data'"
   ]
  },
  {
   "cell_type": "code",
   "execution_count": 62,
   "metadata": {},
   "outputs": [
    {
     "name": "stdout",
     "output_type": "stream",
     "text": [
      "https://www.yahoo.com/\n",
      "https://mail.yahoo.com/\n",
      "https://news.yahoo.com/\n",
      "https://finance.yahoo.com/\n",
      "https://sports.yahoo.com/\n",
      "https://www.yahoo.com/entertainment/\n",
      "https://search.yahoo.com/search/\n",
      "https://mobile.yahoo.com/\n",
      "https://www.yahoo.com/everything/\n",
      "https://finance.yahoo.com\n",
      "https://login.yahoo.com/config/login?.src=finance&.intl=us&.lang=en-US&.done=https%3A%2F%2Ffinance.yahoo.com%2Fquote%2F0050.TW%3Fp%3D0050.TW%26.tsrc%3Dfin-srch&activity=uh-signin&pspid=96469363\n",
      "https://mail.yahoo.com/?.intl=us&.lang=en-US&.partner=none&.src=finance&activity=uh-mail&pspid=96469363\n",
      "https://login.yahoo.com/config/login?.src=finance&.intl=us&.lang=en-US&.done=https://finance.yahoo.com&activity=uh-mail&pspid=96469363\n",
      "/\n",
      "/watchlists\n",
      "/portfolios\n",
      "/screener\n",
      "/plus-dashboard?ncid=navbarprem_fqbo1nu0ks0\n",
      "/calendar\n",
      "/news/\n",
      "https://money.yahoo.com\n",
      "/videos/\n",
      "/sector/ms_basic_materials\n",
      "/tech\n",
      "https://yahoo.uservoice.com/forums/382977\n",
      "/quote/ES%3DF?p=ES%3DF\n",
      "/chart/ES%3DF\n",
      "/quote/YM%3DF?p=YM%3DF\n",
      "/chart/YM%3DF\n",
      "/quote/NQ%3DF?p=NQ%3DF\n",
      "/chart/NQ%3DF\n",
      "/quote/0050.TW?p=0050.TW\n",
      "/quote/0050.TW/chart?p=0050.TW\n",
      "/quote/0050.TW/community?p=0050.TW\n",
      "/quote/0050.TW/history?p=0050.TW\n",
      "/quote/0050.TW/profile?p=0050.TW\n",
      "/quote/0050.TW/options?p=0050.TW\n",
      "/quote/0050.TW/holdings?p=0050.TW\n",
      "/quote/0050.TW/performance?p=0050.TW\n",
      "/quote/0050.TW/risk?p=0050.TW\n",
      "/chart/0050.TW\n",
      "https://www.ad.com/?utm_source=yahoo-finance&utm_medium=referral&utm_campaign=right-rail\n",
      "https://help.yahoo.com/kb/finance-for-web/SLN2310.html?locale=en_US\n",
      "https://help.yahoo.com/kb/finance-for-web\n",
      "https://yahoo.uservoice.com/forums/382977\n",
      "https://policies.oath.com/us/en/oath/privacy/index.html\n",
      "https://policies.oath.com/us/en/oath/privacy/adinfo/index.html\n",
      "https://www.verizonmedia.com/policies/us/en/verizonmedia/terms/otos/index.html\n",
      "https://finance.yahoo.com/sitemap/\n",
      "https://twitter.com/YahooFinance\n",
      "https://facebook.com/yahoofinance\n",
      "https://www.linkedin.com/company/yahoo-finance\n"
     ]
    }
   ],
   "source": [
    "for link in soup.find_all('a',href=True):  # in html anchor/link is represented by the tag <a>\n",
    "    print(link.get('href'))"
   ]
  },
  {
   "cell_type": "code",
   "execution_count": 3,
   "metadata": {},
   "outputs": [
    {
     "data": {
      "text/plain": [
       "'138.25'"
      ]
     },
     "execution_count": 3,
     "metadata": {},
     "output_type": "execute_result"
    }
   ],
   "source": [
    "soup.find('div',{'class': 'My(6px) Pos(r) smartphone_Mt(6px)'}).find('span').text"
   ]
  },
  {
   "cell_type": "markdown",
   "metadata": {},
   "source": [
    "把上述程式寫成一個函式的最後成果："
   ]
  },
  {
   "cell_type": "code",
   "execution_count": 12,
   "metadata": {},
   "outputs": [
    {
     "output_type": "stream",
     "name": "stdout",
     "text": [
      "(2021-05-07 15:14:55.598199) 成交價格為: 139.40\n",
      "(2021-05-07 15:14:56.613883) 成交價格為: 139.40\n",
      "(2021-05-07 15:14:57.758219) 成交價格為: 139.40\n",
      "(2021-05-07 15:14:59.070761) 成交價格為: 139.40\n"
     ]
    },
    {
     "output_type": "error",
     "ename": "KeyboardInterrupt",
     "evalue": "",
     "traceback": [
      "\u001b[0;31m---------------------------------------------------------------------------\u001b[0m",
      "\u001b[0;31mKeyboardInterrupt\u001b[0m                         Traceback (most recent call last)",
      "\u001b[0;32m<ipython-input-12-4e4fbfd715b9>\u001b[0m in \u001b[0;36m<module>\u001b[0;34m\u001b[0m\n\u001b[1;32m      7\u001b[0m \u001b[0;34m\u001b[0m\u001b[0m\n\u001b[1;32m      8\u001b[0m \u001b[0;32mwhile\u001b[0m \u001b[0;32mTrue\u001b[0m\u001b[0;34m:\u001b[0m\u001b[0;34m\u001b[0m\u001b[0;34m\u001b[0m\u001b[0m\n\u001b[0;32m----> 9\u001b[0;31m     \u001b[0mprint\u001b[0m\u001b[0;34m(\u001b[0m\u001b[0;34mf'({datetime.now()}) 成交價格為: {str(get_price())}'\u001b[0m\u001b[0;34m)\u001b[0m\u001b[0;34m\u001b[0m\u001b[0;34m\u001b[0m\u001b[0m\n\u001b[0m",
      "\u001b[0;32m<ipython-input-12-4e4fbfd715b9>\u001b[0m in \u001b[0;36mget_price\u001b[0;34m(stock_id)\u001b[0m\n\u001b[1;32m      2\u001b[0m     \u001b[0murl\u001b[0m \u001b[0;34m=\u001b[0m \u001b[0;34mf'https://finance.yahoo.com/quote/{stock_id}?p={stock_id}&.tsrc=fin-srch'\u001b[0m\u001b[0;34m\u001b[0m\u001b[0;34m\u001b[0m\u001b[0m\n\u001b[1;32m      3\u001b[0m     \u001b[0mpage\u001b[0m \u001b[0;34m=\u001b[0m \u001b[0murlopen\u001b[0m\u001b[0;34m(\u001b[0m\u001b[0murl\u001b[0m\u001b[0;34m)\u001b[0m\u001b[0;34m\u001b[0m\u001b[0;34m\u001b[0m\u001b[0m\n\u001b[0;32m----> 4\u001b[0;31m     \u001b[0msoup\u001b[0m \u001b[0;34m=\u001b[0m \u001b[0mBeautifulSoup\u001b[0m\u001b[0;34m(\u001b[0m\u001b[0mpage\u001b[0m\u001b[0;34m,\u001b[0m \u001b[0;34m'html.parser'\u001b[0m\u001b[0;34m)\u001b[0m\u001b[0;34m\u001b[0m\u001b[0;34m\u001b[0m\u001b[0m\n\u001b[0m\u001b[1;32m      5\u001b[0m     \u001b[0mprice\u001b[0m \u001b[0;34m=\u001b[0m \u001b[0msoup\u001b[0m\u001b[0;34m.\u001b[0m\u001b[0mfind\u001b[0m\u001b[0;34m(\u001b[0m\u001b[0;34m'div'\u001b[0m\u001b[0;34m,\u001b[0m\u001b[0;34m{\u001b[0m\u001b[0;34m'class'\u001b[0m\u001b[0;34m:\u001b[0m \u001b[0;34m'My(6px) Pos(r) smartphone_Mt(6px)'\u001b[0m\u001b[0;34m}\u001b[0m\u001b[0;34m)\u001b[0m\u001b[0;34m.\u001b[0m\u001b[0mfind\u001b[0m\u001b[0;34m(\u001b[0m\u001b[0;34m'span'\u001b[0m\u001b[0;34m)\u001b[0m\u001b[0;34m.\u001b[0m\u001b[0mtext\u001b[0m\u001b[0;34m\u001b[0m\u001b[0;34m\u001b[0m\u001b[0m\n\u001b[1;32m      6\u001b[0m     \u001b[0;32mreturn\u001b[0m \u001b[0mprice\u001b[0m\u001b[0;34m\u001b[0m\u001b[0;34m\u001b[0m\u001b[0m\n",
      "\u001b[0;32m~/opt/anaconda3/envs/DS/lib/python3.8/site-packages/bs4/__init__.py\u001b[0m in \u001b[0;36m__init__\u001b[0;34m(self, markup, features, builder, parse_only, from_encoding, exclude_encodings, element_classes, **kwargs)\u001b[0m\n\u001b[1;32m    307\u001b[0m \u001b[0;34m\u001b[0m\u001b[0m\n\u001b[1;32m    308\u001b[0m         \u001b[0;32mif\u001b[0m \u001b[0mhasattr\u001b[0m\u001b[0;34m(\u001b[0m\u001b[0mmarkup\u001b[0m\u001b[0;34m,\u001b[0m \u001b[0;34m'read'\u001b[0m\u001b[0;34m)\u001b[0m\u001b[0;34m:\u001b[0m        \u001b[0;31m# It's a file-type object.\u001b[0m\u001b[0;34m\u001b[0m\u001b[0;34m\u001b[0m\u001b[0m\n\u001b[0;32m--> 309\u001b[0;31m             \u001b[0mmarkup\u001b[0m \u001b[0;34m=\u001b[0m \u001b[0mmarkup\u001b[0m\u001b[0;34m.\u001b[0m\u001b[0mread\u001b[0m\u001b[0;34m(\u001b[0m\u001b[0;34m)\u001b[0m\u001b[0;34m\u001b[0m\u001b[0;34m\u001b[0m\u001b[0m\n\u001b[0m\u001b[1;32m    310\u001b[0m         elif len(markup) <= 256 and (\n\u001b[1;32m    311\u001b[0m                 \u001b[0;34m(\u001b[0m\u001b[0misinstance\u001b[0m\u001b[0;34m(\u001b[0m\u001b[0mmarkup\u001b[0m\u001b[0;34m,\u001b[0m \u001b[0mbytes\u001b[0m\u001b[0;34m)\u001b[0m \u001b[0;32mand\u001b[0m \u001b[0;32mnot\u001b[0m \u001b[0;34mb'<'\u001b[0m \u001b[0;32min\u001b[0m \u001b[0mmarkup\u001b[0m\u001b[0;34m)\u001b[0m\u001b[0;34m\u001b[0m\u001b[0;34m\u001b[0m\u001b[0m\n",
      "\u001b[0;32m~/opt/anaconda3/envs/DS/lib/python3.8/http/client.py\u001b[0m in \u001b[0;36mread\u001b[0;34m(self, amt)\u001b[0m\n\u001b[1;32m    463\u001b[0m \u001b[0;34m\u001b[0m\u001b[0m\n\u001b[1;32m    464\u001b[0m             \u001b[0;32mif\u001b[0m \u001b[0mself\u001b[0m\u001b[0;34m.\u001b[0m\u001b[0mchunked\u001b[0m\u001b[0;34m:\u001b[0m\u001b[0;34m\u001b[0m\u001b[0;34m\u001b[0m\u001b[0m\n\u001b[0;32m--> 465\u001b[0;31m                 \u001b[0;32mreturn\u001b[0m \u001b[0mself\u001b[0m\u001b[0;34m.\u001b[0m\u001b[0m_readall_chunked\u001b[0m\u001b[0;34m(\u001b[0m\u001b[0;34m)\u001b[0m\u001b[0;34m\u001b[0m\u001b[0;34m\u001b[0m\u001b[0m\n\u001b[0m\u001b[1;32m    466\u001b[0m \u001b[0;34m\u001b[0m\u001b[0m\n\u001b[1;32m    467\u001b[0m             \u001b[0;32mif\u001b[0m \u001b[0mself\u001b[0m\u001b[0;34m.\u001b[0m\u001b[0mlength\u001b[0m \u001b[0;32mis\u001b[0m \u001b[0;32mNone\u001b[0m\u001b[0;34m:\u001b[0m\u001b[0;34m\u001b[0m\u001b[0;34m\u001b[0m\u001b[0m\n",
      "\u001b[0;32m~/opt/anaconda3/envs/DS/lib/python3.8/http/client.py\u001b[0m in \u001b[0;36m_readall_chunked\u001b[0;34m(self)\u001b[0m\n\u001b[1;32m    573\u001b[0m                 \u001b[0;32mif\u001b[0m \u001b[0mchunk_left\u001b[0m \u001b[0;32mis\u001b[0m \u001b[0;32mNone\u001b[0m\u001b[0;34m:\u001b[0m\u001b[0;34m\u001b[0m\u001b[0;34m\u001b[0m\u001b[0m\n\u001b[1;32m    574\u001b[0m                     \u001b[0;32mbreak\u001b[0m\u001b[0;34m\u001b[0m\u001b[0;34m\u001b[0m\u001b[0m\n\u001b[0;32m--> 575\u001b[0;31m                 \u001b[0mvalue\u001b[0m\u001b[0;34m.\u001b[0m\u001b[0mappend\u001b[0m\u001b[0;34m(\u001b[0m\u001b[0mself\u001b[0m\u001b[0;34m.\u001b[0m\u001b[0m_safe_read\u001b[0m\u001b[0;34m(\u001b[0m\u001b[0mchunk_left\u001b[0m\u001b[0;34m)\u001b[0m\u001b[0;34m)\u001b[0m\u001b[0;34m\u001b[0m\u001b[0;34m\u001b[0m\u001b[0m\n\u001b[0m\u001b[1;32m    576\u001b[0m                 \u001b[0mself\u001b[0m\u001b[0;34m.\u001b[0m\u001b[0mchunk_left\u001b[0m \u001b[0;34m=\u001b[0m \u001b[0;36m0\u001b[0m\u001b[0;34m\u001b[0m\u001b[0;34m\u001b[0m\u001b[0m\n\u001b[1;32m    577\u001b[0m             \u001b[0;32mreturn\u001b[0m \u001b[0;34mb''\u001b[0m\u001b[0;34m.\u001b[0m\u001b[0mjoin\u001b[0m\u001b[0;34m(\u001b[0m\u001b[0mvalue\u001b[0m\u001b[0;34m)\u001b[0m\u001b[0;34m\u001b[0m\u001b[0;34m\u001b[0m\u001b[0m\n",
      "\u001b[0;32m~/opt/anaconda3/envs/DS/lib/python3.8/http/client.py\u001b[0m in \u001b[0;36m_safe_read\u001b[0;34m(self, amt)\u001b[0m\n\u001b[1;32m    610\u001b[0m         \u001b[0mIncompleteRead\u001b[0m \u001b[0mexception\u001b[0m \u001b[0mcan\u001b[0m \u001b[0mbe\u001b[0m \u001b[0mused\u001b[0m \u001b[0mto\u001b[0m \u001b[0mdetect\u001b[0m \u001b[0mthe\u001b[0m \u001b[0mproblem\u001b[0m\u001b[0;34m.\u001b[0m\u001b[0;34m\u001b[0m\u001b[0;34m\u001b[0m\u001b[0m\n\u001b[1;32m    611\u001b[0m         \"\"\"\n\u001b[0;32m--> 612\u001b[0;31m         \u001b[0mdata\u001b[0m \u001b[0;34m=\u001b[0m \u001b[0mself\u001b[0m\u001b[0;34m.\u001b[0m\u001b[0mfp\u001b[0m\u001b[0;34m.\u001b[0m\u001b[0mread\u001b[0m\u001b[0;34m(\u001b[0m\u001b[0mamt\u001b[0m\u001b[0;34m)\u001b[0m\u001b[0;34m\u001b[0m\u001b[0;34m\u001b[0m\u001b[0m\n\u001b[0m\u001b[1;32m    613\u001b[0m         \u001b[0;32mif\u001b[0m \u001b[0mlen\u001b[0m\u001b[0;34m(\u001b[0m\u001b[0mdata\u001b[0m\u001b[0;34m)\u001b[0m \u001b[0;34m<\u001b[0m \u001b[0mamt\u001b[0m\u001b[0;34m:\u001b[0m\u001b[0;34m\u001b[0m\u001b[0;34m\u001b[0m\u001b[0m\n\u001b[1;32m    614\u001b[0m             \u001b[0;32mraise\u001b[0m \u001b[0mIncompleteRead\u001b[0m\u001b[0;34m(\u001b[0m\u001b[0mdata\u001b[0m\u001b[0;34m,\u001b[0m \u001b[0mamt\u001b[0m\u001b[0;34m-\u001b[0m\u001b[0mlen\u001b[0m\u001b[0;34m(\u001b[0m\u001b[0mdata\u001b[0m\u001b[0;34m)\u001b[0m\u001b[0;34m)\u001b[0m\u001b[0;34m\u001b[0m\u001b[0;34m\u001b[0m\u001b[0m\n",
      "\u001b[0;32m~/opt/anaconda3/envs/DS/lib/python3.8/socket.py\u001b[0m in \u001b[0;36mreadinto\u001b[0;34m(self, b)\u001b[0m\n\u001b[1;32m    667\u001b[0m         \u001b[0;32mwhile\u001b[0m \u001b[0;32mTrue\u001b[0m\u001b[0;34m:\u001b[0m\u001b[0;34m\u001b[0m\u001b[0;34m\u001b[0m\u001b[0m\n\u001b[1;32m    668\u001b[0m             \u001b[0;32mtry\u001b[0m\u001b[0;34m:\u001b[0m\u001b[0;34m\u001b[0m\u001b[0;34m\u001b[0m\u001b[0m\n\u001b[0;32m--> 669\u001b[0;31m                 \u001b[0;32mreturn\u001b[0m \u001b[0mself\u001b[0m\u001b[0;34m.\u001b[0m\u001b[0m_sock\u001b[0m\u001b[0;34m.\u001b[0m\u001b[0mrecv_into\u001b[0m\u001b[0;34m(\u001b[0m\u001b[0mb\u001b[0m\u001b[0;34m)\u001b[0m\u001b[0;34m\u001b[0m\u001b[0;34m\u001b[0m\u001b[0m\n\u001b[0m\u001b[1;32m    670\u001b[0m             \u001b[0;32mexcept\u001b[0m \u001b[0mtimeout\u001b[0m\u001b[0;34m:\u001b[0m\u001b[0;34m\u001b[0m\u001b[0;34m\u001b[0m\u001b[0m\n\u001b[1;32m    671\u001b[0m                 \u001b[0mself\u001b[0m\u001b[0;34m.\u001b[0m\u001b[0m_timeout_occurred\u001b[0m \u001b[0;34m=\u001b[0m \u001b[0;32mTrue\u001b[0m\u001b[0;34m\u001b[0m\u001b[0;34m\u001b[0m\u001b[0m\n",
      "\u001b[0;32m~/opt/anaconda3/envs/DS/lib/python3.8/ssl.py\u001b[0m in \u001b[0;36mrecv_into\u001b[0;34m(self, buffer, nbytes, flags)\u001b[0m\n\u001b[1;32m   1239\u001b[0m                   \u001b[0;34m\"non-zero flags not allowed in calls to recv_into() on %s\"\u001b[0m \u001b[0;34m%\u001b[0m\u001b[0;34m\u001b[0m\u001b[0;34m\u001b[0m\u001b[0m\n\u001b[1;32m   1240\u001b[0m                   self.__class__)\n\u001b[0;32m-> 1241\u001b[0;31m             \u001b[0;32mreturn\u001b[0m \u001b[0mself\u001b[0m\u001b[0;34m.\u001b[0m\u001b[0mread\u001b[0m\u001b[0;34m(\u001b[0m\u001b[0mnbytes\u001b[0m\u001b[0;34m,\u001b[0m \u001b[0mbuffer\u001b[0m\u001b[0;34m)\u001b[0m\u001b[0;34m\u001b[0m\u001b[0;34m\u001b[0m\u001b[0m\n\u001b[0m\u001b[1;32m   1242\u001b[0m         \u001b[0;32melse\u001b[0m\u001b[0;34m:\u001b[0m\u001b[0;34m\u001b[0m\u001b[0;34m\u001b[0m\u001b[0m\n\u001b[1;32m   1243\u001b[0m             \u001b[0;32mreturn\u001b[0m \u001b[0msuper\u001b[0m\u001b[0;34m(\u001b[0m\u001b[0;34m)\u001b[0m\u001b[0;34m.\u001b[0m\u001b[0mrecv_into\u001b[0m\u001b[0;34m(\u001b[0m\u001b[0mbuffer\u001b[0m\u001b[0;34m,\u001b[0m \u001b[0mnbytes\u001b[0m\u001b[0;34m,\u001b[0m \u001b[0mflags\u001b[0m\u001b[0;34m)\u001b[0m\u001b[0;34m\u001b[0m\u001b[0;34m\u001b[0m\u001b[0m\n",
      "\u001b[0;32m~/opt/anaconda3/envs/DS/lib/python3.8/ssl.py\u001b[0m in \u001b[0;36mread\u001b[0;34m(self, len, buffer)\u001b[0m\n\u001b[1;32m   1097\u001b[0m         \u001b[0;32mtry\u001b[0m\u001b[0;34m:\u001b[0m\u001b[0;34m\u001b[0m\u001b[0;34m\u001b[0m\u001b[0m\n\u001b[1;32m   1098\u001b[0m             \u001b[0;32mif\u001b[0m \u001b[0mbuffer\u001b[0m \u001b[0;32mis\u001b[0m \u001b[0;32mnot\u001b[0m \u001b[0;32mNone\u001b[0m\u001b[0;34m:\u001b[0m\u001b[0;34m\u001b[0m\u001b[0;34m\u001b[0m\u001b[0m\n\u001b[0;32m-> 1099\u001b[0;31m                 \u001b[0;32mreturn\u001b[0m \u001b[0mself\u001b[0m\u001b[0;34m.\u001b[0m\u001b[0m_sslobj\u001b[0m\u001b[0;34m.\u001b[0m\u001b[0mread\u001b[0m\u001b[0;34m(\u001b[0m\u001b[0mlen\u001b[0m\u001b[0;34m,\u001b[0m \u001b[0mbuffer\u001b[0m\u001b[0;34m)\u001b[0m\u001b[0;34m\u001b[0m\u001b[0;34m\u001b[0m\u001b[0m\n\u001b[0m\u001b[1;32m   1100\u001b[0m             \u001b[0;32melse\u001b[0m\u001b[0;34m:\u001b[0m\u001b[0;34m\u001b[0m\u001b[0;34m\u001b[0m\u001b[0m\n\u001b[1;32m   1101\u001b[0m                 \u001b[0;32mreturn\u001b[0m \u001b[0mself\u001b[0m\u001b[0;34m.\u001b[0m\u001b[0m_sslobj\u001b[0m\u001b[0;34m.\u001b[0m\u001b[0mread\u001b[0m\u001b[0;34m(\u001b[0m\u001b[0mlen\u001b[0m\u001b[0;34m)\u001b[0m\u001b[0;34m\u001b[0m\u001b[0;34m\u001b[0m\u001b[0m\n",
      "\u001b[0;31mKeyboardInterrupt\u001b[0m: "
     ]
    }
   ],
   "source": [
    "def get_price(stock_id='0050.TW'):\n",
    "    url = f'https://finance.yahoo.com/quote/{stock_id}?p={stock_id}&.tsrc=fin-srch'\n",
    "    page = urlopen(url)\n",
    "    soup = BeautifulSoup(page, 'html.parser')\n",
    "    price = soup.find('div',{'class': 'My(6px) Pos(r) smartphone_Mt(6px)'}).find('span').text\n",
    "    return price\n",
    "\n",
    "while True: \n",
    "    print(f'({datetime.now()}) 成交價格為：{str(get_price())}')"
   ]
  },
  {
   "source": [
    "### 股利政策\n",
    "\n",
    "大家上數學的時候應該常常會聽到利息（或是單複利）的題目對吧？得知股利也是大家看股票時很重要的依據。我們在看股利時，無非是希望倘若今天股票沒有大漲，是否仍會比把錢全部投入在銀行中來得好。\n",
    "\n",
    "為了增加大家實作經驗，這次我們來爬取另一個網站。有下列兩種方式供各位參考：\n",
    "\n",
    "第一種方法是利用上面所得到的股票價格，我們把今年預計發放的股利除以該價格就是我們預期會得到的利息。"
   ],
   "cell_type": "markdown",
   "metadata": {}
  },
  {
   "cell_type": "code",
   "execution_count": 71,
   "metadata": {},
   "outputs": [],
   "source": [
    "url = \"https://tw.stock.yahoo.com/d/s/dividend_0050.html\"\n",
    "page = requests.get(url)\n",
    "soup = BeautifulSoup(page.content, 'html.parser')"
   ]
  },
  {
   "cell_type": "code",
   "execution_count": 73,
   "metadata": {},
   "outputs": [
    {
     "output_type": "stream",
     "name": "stdout",
     "text": [
      "2021\n"
     ]
    }
   ],
   "source": [
    "div_table = soup.find_all('table')[1].find_all('table')[1]\n",
    "all_years_raw = div_table.find_all('tr')[1:]\n",
    "first_date = (all_years_raw[0].find_all('td')[1].text)\n",
    "first_year = first_date.split('-')[0]\n",
    "print(first_year)"
   ]
  },
  {
   "source": [
    "接下來，我們要確認一下是否有 cover 到所有該年份的資料，所以要跑一次 for 迴圈。"
   ],
   "cell_type": "markdown",
   "metadata": {}
  },
  {
   "cell_type": "code",
   "execution_count": 76,
   "metadata": {},
   "outputs": [
    {
     "output_type": "stream",
     "name": "stdout",
     "text": [
      "3.05\n"
     ]
    }
   ],
   "source": [
    "total_div = 0\n",
    "for year_raw in all_years_raw:\n",
    "    if year_raw.find_all('td')[1].text.split('-')[0] == first_year:\n",
    "        # print(year_raw.find_all('td')[-1].text)\n",
    "        total_div += float(year_raw.find_all('td')[-1].text)\n",
    "\n",
    "print(total_div)"
   ]
  },
  {
   "cell_type": "code",
   "execution_count": 79,
   "metadata": {},
   "outputs": [
    {
     "output_type": "stream",
     "name": "stdout",
     "text": [
      "2.1879483500717356%\n"
     ]
    }
   ],
   "source": [
    "div_yield = total_div / float(get_price('0050.TW'))\n",
    "print(f'{div_yield * 100}%')"
   ]
  },
  {
   "source": [
    "我們也再一次地將上述的程式寫成一個函式："
   ],
   "cell_type": "markdown",
   "metadata": {}
  },
  {
   "cell_type": "code",
   "execution_count": 83,
   "metadata": {},
   "outputs": [
    {
     "output_type": "stream",
     "name": "stdout",
     "text": [
      "2020 年的殖利率：2.5824964131994257%\n"
     ]
    }
   ],
   "source": [
    "def get_dividend_yield(stock_id='0050.TW', year=None):\n",
    "    url = f\"https://tw.stock.yahoo.com/d/s/dividend_{stock_id.split('.')[0]}.html\"\n",
    "    page = requests.get(url)\n",
    "    soup = BeautifulSoup(page.content, 'html.parser')\n",
    "    div_table = soup.find_all('table')[1].find_all('table')[1]\n",
    "    all_years_raw = div_table.find_all('tr')[1:]\n",
    "    first_date = (all_years_raw[0].find_all('td')[1].text)\n",
    "    if year == None:\n",
    "        first_year = first_date.split('-')[0]\n",
    "    else:\n",
    "        first_year = str(year)\n",
    "\n",
    "    # 開始進行加總\n",
    "    total_div = 0\n",
    "    for year_raw in all_years_raw:\n",
    "        if year_raw.find_all('td')[1].text.split('-')[0] == first_year:\n",
    "            total_div += float(year_raw.find_all('td')[-1].text)\n",
    "\n",
    "    # 利用剛剛的函式幫我們取得現價\n",
    "    div_yield = total_div / float(get_price(stock_id))\n",
    "    return year, div_yield, total_div\n",
    "\n",
    "year, div_yield, total_div = get_dividend_yield(stock_id='0050.TW', year=2020)\n",
    "print(f'{year} 年的殖利率：{div_yield * 100}%')"
   ]
  },
  {
   "source": [
    "這麼一來我們便可以知道，目前我們的殖利率為 2%，比銀行好一些。\n",
    "\n",
    "另一種取得殖利率的方式，我們在這裡就不仔細講，因為牽扯到比較深的技術。所以請同學自己回家時可以玩看看。\n",
    "\n",
    "簡單來說，有些網站為了防止機器人來抓取，會禁止相關爬蟲活動。所以必須透過「headers」來模擬我們瀏覽視窗的行為。同學可以把 headers 刪除掉看看會發生什麼事情。\n",
    "\n",
    "透過以下網站，我們可以得到**年均殖利率(%)**，這會比剛剛那樣算還要精準一點。就請同學利用剛剛所教的方式自行把玩。"
   ],
   "cell_type": "markdown",
   "metadata": {}
  },
  {
   "cell_type": "code",
   "execution_count": 57,
   "metadata": {},
   "outputs": [],
   "source": [
    "url = \"https://goodinfo.tw/StockInfo/StockDividendPolicy.asp?STOCK_ID=0050\"\n",
    "\n",
    "headers = ({'User-Agent':\n",
    "            'Mozilla/5.0 (X11; Linux x86_64) AppleWebKit/537.36 (KHTML, like Gecko) Chrome/44.0.2403.157 Safari/537.36',\n",
    "            'Accept-Language': 'en-US, en;q=0.5'})\n",
    "\n",
    "page = requests.get(url, headers=headers)\n",
    "soup = BeautifulSoup(page.content, 'html.parser')\n"
   ]
  }
 ],
 "metadata": {
  "kernelspec": {
   "name": "ds",
   "display_name": "Python 3.8.5 64-bit ('DS': conda)"
  },
  "language_info": {
   "codemirror_mode": {
    "name": "ipython",
    "version": 3
   },
   "file_extension": ".py",
   "mimetype": "text/x-python",
   "name": "python",
   "nbconvert_exporter": "python",
   "pygments_lexer": "ipython3",
   "version": "3.8.5"
  }
 },
 "nbformat": 4,
 "nbformat_minor": 4
}